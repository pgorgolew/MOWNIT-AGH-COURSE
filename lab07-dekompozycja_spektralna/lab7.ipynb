{
 "cells": [
  {
   "cell_type": "markdown",
   "source": [
    "# Metody Obliczeniowe w Nauce i Technice Laboratorium 7\n",
    "## Dekompozycja spektralna\n",
    "### Paweł Gorgolewski"
   ],
   "metadata": {
    "collapsed": false,
    "pycharm": {
     "name": "#%% md\n"
    }
   }
  },
  {
   "cell_type": "code",
   "execution_count": 106,
   "outputs": [],
   "source": [
    "import numpy as np\n",
    "import time\n",
    "import matplotlib.pyplot as plt\n",
    "from scipy.linalg import lu_factor, lu_solve"
   ],
   "metadata": {
    "collapsed": false,
    "pycharm": {
     "name": "#%%\n"
    }
   }
  },
  {
   "cell_type": "code",
   "execution_count": 107,
   "metadata": {
    "collapsed": true,
    "pycharm": {
     "name": "#%%\n"
    }
   },
   "outputs": [],
   "source": [
    "def power_method(A, eps=1e-9, iterations=10000):\n",
    "    n = len(A)\n",
    "    x = np.random.rand(n)\n",
    "    count = 0\n",
    "    while count < iterations:\n",
    "        count+=1\n",
    "        x_tmp = np.dot(A, x)\n",
    "        norm = np.linalg.norm(x_tmp, np.inf)\n",
    "        x_norm = x_tmp / norm\n",
    "        if np.linalg.norm(x_norm-x, np.inf) < eps:\n",
    "            x = x_norm\n",
    "            break\n",
    "\n",
    "        x = x_norm\n",
    "\n",
    "    return count, norm, (x/np.linalg.norm(x))"
   ]
  },
  {
   "cell_type": "code",
   "execution_count": 108,
   "outputs": [
    {
     "name": "stdout",
     "output_type": "stream",
     "text": [
      "VALUES\n",
      "\tnumpy: [1.77970672+0.j         0.48807366+0.33312899j 0.48807366-0.33312899j]\n",
      "\tpower_method 1.7797067217458478\n",
      "VECTORS\n",
      "\tnumpy: [[-0.72112002+0.j          0.27849794-0.5086914j   0.27849794+0.5086914j ]\n",
      " [-0.29051436+0.j          0.36473863+0.35399514j  0.36473863-0.35399514j]\n",
      " [-0.62895734+0.j         -0.6366515 +0.j         -0.6366515 -0.j        ]]\n",
      "\tpower_method [0.72112002 0.29051436 0.62895734]\n",
      "TIMES\n",
      "\tnumpy 0.0\n",
      "\tpower_method 0.0009965896606445312\n"
     ]
    }
   ],
   "source": [
    "A = np.random.rand(3,3)\n",
    "\n",
    "np_time = time.time()\n",
    "eig_value, eig_vectors = np.linalg.eig(A)\n",
    "np_time = time.time() - np_time\n",
    "\n",
    "power_time = time.time()\n",
    "iterations, power_value, power_vector = power_method(A)\n",
    "power_time = time.time()-power_time\n",
    "\n",
    "print(f\"VALUES\\n\\tnumpy: {eig_value}\\n\\tpower_method {power_value}\")\n",
    "print(f\"VECTORS\\n\\tnumpy: {eig_vectors}\\n\\tpower_method {power_vector}\")\n",
    "print(f\"TIMES\\n\\tnumpy {np_time}\\n\\tpower_method {power_time}\")"
   ],
   "metadata": {
    "collapsed": false,
    "pycharm": {
     "name": "#%%\n"
    }
   }
  },
  {
   "cell_type": "code",
   "execution_count": 109,
   "outputs": [
    {
     "data": {
      "text/plain": "[<matplotlib.lines.Line2D at 0x17853751580>]"
     },
     "execution_count": 109,
     "metadata": {},
     "output_type": "execute_result"
    },
    {
     "data": {
      "text/plain": "<Figure size 432x288 with 1 Axes>",
      "image/png": "[encoded data removed]"
     },
     "metadata": {
      "needs_background": "light"
     },
     "output_type": "display_data"
    }
   ],
   "source": [
    "times, sizes = [], []\n",
    "for i in range(50, 1000, 50):\n",
    "    A = np.random.rand(i,i)\n",
    "\n",
    "    power_time = time.time()\n",
    "    power_method(A)\n",
    "    power_time = time.time()-power_time\n",
    "\n",
    "    times.append(power_time)\n",
    "    sizes.append(i)\n",
    "\n",
    "plt.plot(sizes,times, 'b+')"
   ],
   "metadata": {
    "collapsed": false,
    "pycharm": {
     "name": "#%%\n"
    }
   }
  },
  {
   "cell_type": "markdown",
   "source": [
    "## 2 odwrotna"
   ],
   "metadata": {
    "collapsed": false,
    "pycharm": {
     "name": "#%% md\n"
    }
   }
  },
  {
   "cell_type": "code",
   "execution_count": 110,
   "outputs": [],
   "source": [
    "def inverse_power_method(A, sigma=0, eps=1e-9, iterations=10000):\n",
    "    n = A.shape[0]\n",
    "    x = np.zeros(n)\n",
    "    x[0] = 1\n",
    "    LU = lu_factor(A - sigma * np.eye(n))\n",
    "\n",
    "    for i in range(iterations):\n",
    "        x_next = lu_solve(LU, x)\n",
    "        x_next /= np.linalg.norm(x_next)\n",
    "\n",
    "        if np.linalg.norm(x_next - x) < eps:\n",
    "            return x_next\n",
    "\n",
    "        x = x_next\n",
    "\n",
    "    return x"
   ],
   "metadata": {
    "collapsed": false,
    "pycharm": {
     "name": "#%%\n"
    }
   }
  },
  {
   "cell_type": "code",
   "execution_count": 111,
   "outputs": [
    {
     "name": "stdout",
     "output_type": "stream",
     "text": [
      "[ 1.26738788  0.16784213 -0.24522129]\n",
      "[[ 0.2613728   0.60135871 -0.4079797 ]\n",
      " [ 0.70547755 -0.51445262 -0.27284462]\n",
      " [ 0.6587759   0.61131514  0.87126826]]\n",
      "\n",
      "sigma 1.3\n",
      "[0.2613728  0.70547755 0.6587759 ]\n",
      "\n",
      "sigma 0.2\n",
      "[ 0.60135871 -0.51445262  0.61131514]\n",
      "\n",
      "sigma -0.3\n",
      "[ 0.4079797   0.27284462 -0.87126826]\n"
     ]
    }
   ],
   "source": [
    "np.random.seed(121)\n",
    "M = np.random.rand(3,3)\n",
    "\n",
    "np_time = time.time()\n",
    "eig_value, eig_vectors = np.linalg.eig(M)\n",
    "np_time = time.time() - np_time\n",
    "\n",
    "print(eig_value)\n",
    "print(eig_vectors)\n",
    "\n",
    "print(\"\\nsigma 1.3\")\n",
    "print(inverse_power_method(M, 1.3))\n",
    "print(\"\\nsigma 0.2\")\n",
    "print(inverse_power_method(M, 0.2))\n",
    "print(\"\\nsigma -0.3\")\n",
    "print(inverse_power_method(M, -0.3))\n"
   ],
   "metadata": {
    "collapsed": false,
    "pycharm": {
     "name": "#%%\n"
    }
   }
  },
  {
   "cell_type": "code",
   "execution_count": 111,
   "outputs": [],
   "source": [],
   "metadata": {
    "collapsed": false,
    "pycharm": {
     "name": "#%%\n"
    }
   }
  }
 ],
 "metadata": {
  "kernelspec": {
   "display_name": "Python 3",
   "language": "python",
   "name": "python3"
  },
  "language_info": {
   "codemirror_mode": {
    "name": "ipython",
    "version": 2
   },
   "file_extension": ".py",
   "mimetype": "text/x-python",
   "name": "python",
   "nbconvert_exporter": "python",
   "pygments_lexer": "ipython2",
   "version": "2.7.6"
  }
 },
 "nbformat": 4,
 "nbformat_minor": 0
}
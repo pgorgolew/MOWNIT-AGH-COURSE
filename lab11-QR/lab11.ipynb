{
 "cells": [
  {
   "cell_type": "markdown",
   "source": [
    "# Metody Obliczeniowe w Nauce i Technice Laboratorium 9\n",
    "## Zastosowania DFT\n",
    "### Paweł Gorgolewski"
   ],
   "metadata": {
    "collapsed": false
   }
  },
  {
   "cell_type": "code",
   "execution_count": 97,
   "metadata": {
    "collapsed": true
   },
   "outputs": [],
   "source": [
    "import numpy as np\n",
    "import matplotlib.pyplot as plt"
   ]
  },
  {
   "cell_type": "code",
   "execution_count": 98,
   "outputs": [],
   "source": [
    "def normalize(vector):\n",
    "    return vector / np.linalg.norm(vector)\n",
    "\n",
    "def qr(A):\n",
    "    n = len(A)\n",
    "    Q = np.copy(A)\n",
    "    R = np.zeros((n, n))\n",
    "\n",
    "    for k in range(0, n):\n",
    "        for i in range(0, k):\n",
    "            Q[:,k] -= (Q[:,i] @ A[:,k]) * Q[:,i]\n",
    "        Q[:,k] = normalize(Q[:,k])\n",
    "\n",
    "    for i in range(0, n):\n",
    "        for j in range(i, n):\n",
    "            R[i,j] = np.dot(Q[:,i], A[:,j])\n",
    "\n",
    "    return Q, R"
   ],
   "metadata": {
    "collapsed": false,
    "pycharm": {
     "name": "#%%\n"
    }
   }
  },
  {
   "cell_type": "markdown",
   "source": [
    "test"
   ],
   "metadata": {
    "collapsed": false
   }
  },
  {
   "cell_type": "code",
   "execution_count": 99,
   "outputs": [],
   "source": [
    "def test_randoms(n_shapes, debug=False):\n",
    "    for n in n_shapes:\n",
    "        A = np.random.rand(n, n)\n",
    "\n",
    "        Q, R = qr(A)\n",
    "        Q_np, R_np = np.linalg.qr(A)\n",
    "\n",
    "        if debug:\n",
    "            print(f\"A:\\n{A}\", end='\\n\\n')\n",
    "            print(f\"Q:\\n{Q}\")\n",
    "            print(f\"Q from numpy:\\n{Q_np}\", end='\\n\\n')\n",
    "            print(f\"R:\\n{R}\")\n",
    "            print(f\"R from numpy:\\n{R_np}\", end='\\n\\n')\n",
    "\n",
    "        np.testing.assert_allclose(Q @ R, Q_np @ R_np)\n",
    "        print(f\"EVERYTHING FINE FOR {n}\")"
   ],
   "metadata": {
    "collapsed": false,
    "pycharm": {
     "name": "#%%\n"
    }
   }
  },
  {
   "cell_type": "code",
   "execution_count": 100,
   "outputs": [
    {
     "name": "stdout",
     "output_type": "stream",
     "text": [
      "EVERYTHING FINE FOR 3\n",
      "EVERYTHING FINE FOR 5\n",
      "EVERYTHING FINE FOR 8\n",
      "EVERYTHING FINE FOR 10\n",
      "EVERYTHING FINE FOR 15\n"
     ]
    }
   ],
   "source": [
    "test_randoms(n_shapes=[3,5,8,10,15])"
   ],
   "metadata": {
    "collapsed": false,
    "pycharm": {
     "name": "#%%\n"
    }
   }
  },
  {
   "cell_type": "code",
   "execution_count": 128,
   "outputs": [],
   "source": [
    "#https://math.stackexchange.com/questions/198515/can-we-generate-random-singular-matrices-with-desired-condition-number-using-mat\n",
    "def generate_n_eights(n):\n",
    "    A = np.random.rand(8, 8)\n",
    "    U, _, V = np.linalg.svd(A)\n",
    "    initial_cond = 1\n",
    "\n",
    "    matrixes = []\n",
    "    for i in range(n):\n",
    "        D = np.linspace(initial_cond,1,8)\n",
    "        initial_cond *= 1 + np.random.random()\n",
    "        matrixes.append(U @ np.diag(D) @ V)\n",
    "\n",
    "    return matrixes\n",
    "\n",
    "def get_plot(matrixes_num=50):\n",
    "    matrixes = generate_n_eights(matrixes_num)\n",
    "    conds = []\n",
    "    diffs = []\n",
    "    for A in matrixes:\n",
    "        Q, R = qr(A)\n",
    "\n",
    "        norm = np.linalg.norm(np.identity(8) - Q.T @ Q)\n",
    "        cond = np.linalg.cond(A)\n",
    "        conds.append(cond)\n",
    "        diffs.append(norm)\n",
    "\n",
    "    plt.plot(conds, diffs, marker='+', linestyle=\"None\")\n",
    "    plt.show()"
   ],
   "metadata": {
    "collapsed": false,
    "pycharm": {
     "name": "#%%\n"
    }
   }
  },
  {
   "cell_type": "code",
   "execution_count": 129,
   "outputs": [
    {
     "data": {
      "text/plain": "<Figure size 432x288 with 1 Axes>",
      "image/png": "[encoded data removed]"
     },
     "metadata": {
      "needs_background": "light"
     },
     "output_type": "display_data"
    }
   ],
   "source": [
    "get_plot(matrixes_num=50)"
   ],
   "metadata": {
    "collapsed": false,
    "pycharm": {
     "name": "#%%\n"
    }
   }
  }
 ],
 "metadata": {
  "kernelspec": {
   "display_name": "Python 3",
   "language": "python",
   "name": "python3"
  },
  "language_info": {
   "codemirror_mode": {
    "name": "ipython",
    "version": 2
   },
   "file_extension": ".py",
   "mimetype": "text/x-python",
   "name": "python",
   "nbconvert_exporter": "python",
   "pygments_lexer": "ipython2",
   "version": "2.7.6"
  }
 },
 "nbformat": 4,
 "nbformat_minor": 0
}
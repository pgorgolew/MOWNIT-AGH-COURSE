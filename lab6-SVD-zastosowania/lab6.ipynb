{
 "cells": [
  {
   "cell_type": "markdown",
   "metadata": {
    "collapsed": true,
    "pycharm": {
     "name": "#%% md\n"
    }
   },
   "source": [
    "# Metody Obliczeniowe w Nauce i Technice Laboratorium 6\n",
    "## Page searcher\n",
    "### Paweł Gorgolewski"
   ]
  },
  {
   "cell_type": "code",
   "execution_count": null,
   "outputs": [],
   "source": [
    "import numpy as np\n",
    "import pickle\n",
    "import wikipedia as wiki"
   ],
   "metadata": {
    "collapsed": false,
    "pycharm": {
     "name": "#%%\n"
    }
   }
  },
  {
   "cell_type": "markdown",
   "source": [
    "#### Generating wiki dump\n",
    "Najpierw pobrałem dump indeksów wikipedii ze strony\n",
    "https://dumps.wikimedia.org/enwiki/20220401/\n",
    "\n"
   ],
   "metadata": {
    "collapsed": false
   }
  },
  {
   "cell_type": "code",
   "execution_count": 6,
   "outputs": [
    {
     "name": "stdout",
     "output_type": "stream",
     "text": [
      "siemano\n",
      "<class 'str'>\n"
     ]
    }
   ],
   "source": [
    "def get_first_n_titles(n=1000, file='wiki-pages-indexes.txt'):\n",
    "    titles = []\n",
    "    with open(file, \"r\") as f:\n",
    "        lines = f.readlines()[:n]\n",
    "        for line in lines:\n",
    "            titles.append(line.split(sep=':')[-1])\n",
    "\n",
    "    return titles\n",
    "\n",
    "def get_articles_content_and_save_pickle(titles):\n",
    "    for title in titles:\n",
    "        wiki_page = wiki.page(title)\n",
    "        wiki_content = wiki_page.content\n",
    "        #now saving pickle\n",
    "        pickle.dump(wiki_content, open(title, \"wb\"))\n"
   ],
   "metadata": {
    "collapsed": false,
    "pycharm": {
     "name": "#%%\n"
    }
   }
  },
  {
   "cell_type": "markdown",
   "source": [
    "kod z tej strony\n",
    "https://www.mediawiki.org/wiki/API%3aAllpages#Python"
   ],
   "metadata": {
    "collapsed": false
   }
  },
  {
   "cell_type": "code",
   "execution_count": 7,
   "outputs": [
    {
     "name": "stdout",
     "output_type": "stream",
     "text": [
      "A\n",
      "A!\n",
      "A!MS\n",
      "A! (Alexa Feser album)\n",
      "A! (album)\n",
      "A\"\n",
      "A\"H\n",
      "A\"h\n",
      "A$\n",
      "A$$\n",
      "10\n"
     ]
    }
   ],
   "source": [
    "import requests\n",
    "\n",
    "S = requests.Session()\n",
    "\n",
    "URL = \"https://en.wikipedia.org/w/api.php\"\n",
    "\n",
    "PARAMS = {\n",
    "    \"action\": \"query\",\n",
    "    \"format\": \"json\",\n",
    "    \"list\": \"allpages\",\n",
    "    \"apfrom\": \"a\",\n",
    "}\n",
    "\n",
    "R = S.get(url=URL, params=PARAMS)\n",
    "DATA = R.json()\n",
    "\n",
    "PAGES = DATA[\"query\"][\"allpages\"]\n",
    "\n",
    "i = 0\n",
    "for page in PAGES:\n",
    "    i+=1\n",
    "    print(page[\"title\"])\n",
    "\n",
    "print(i)"
   ],
   "metadata": {
    "collapsed": false,
    "pycharm": {
     "name": "#%%\n"
    }
   }
  },
  {
   "cell_type": "code",
   "execution_count": null,
   "outputs": [],
   "source": [],
   "metadata": {
    "collapsed": false,
    "pycharm": {
     "name": "#%%\n"
    }
   }
  }
 ],
 "metadata": {
  "kernelspec": {
   "display_name": "Python 3",
   "language": "python",
   "name": "python3"
  },
  "language_info": {
   "codemirror_mode": {
    "name": "ipython",
    "version": 2
   },
   "file_extension": ".py",
   "mimetype": "text/x-python",
   "name": "python",
   "nbconvert_exporter": "python",
   "pygments_lexer": "ipython2",
   "version": "2.7.6"
  }
 },
 "nbformat": 4,
 "nbformat_minor": 0
}
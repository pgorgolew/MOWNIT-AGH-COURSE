{
 "cells": [
  {
   "cell_type": "markdown",
   "metadata": {
    "collapsed": true,
    "pycharm": {
     "name": "#%% md\n"
    }
   },
   "source": [
    "# Metoda bisekcji"
   ]
  },
  {
   "cell_type": "code",
   "execution_count": 12,
   "outputs": [],
   "source": [
    "from mpmath import *"
   ],
   "metadata": {
    "collapsed": false,
    "pycharm": {
     "name": "#%%\n"
    }
   }
  },
  {
   "cell_type": "code",
   "execution_count": 13,
   "outputs": [],
   "source": [
    "def f1(x): # [3/2 pi, 2pi]\n",
    "    return fsub( fmul(cos(x), cosh(x)) , 1)\n",
    "\n",
    "def f2(x): # [0, pi/2]\n",
    "    return fsub(fdiv(1, x),  tan(x))\n",
    "\n",
    "def f3(x): #[1,3]\n",
    "    return 2**(-x) + e**x + 2*cos(x) - 6\n"
   ],
   "metadata": {
    "collapsed": false,
    "pycharm": {
     "name": "#%%\n"
    }
   }
  },
  {
   "cell_type": "code",
   "execution_count": 14,
   "outputs": [],
   "source": [
    "def bisection(precision, a, b, epsilon, func, max_iter=1000):\n",
    "    mp.dps = precision\n",
    "    if sign(func(a)) == sign(func(b)):\n",
    "        print(\"ERROR: sorry cannot find different signs\")\n",
    "        return None\n",
    "    iter = 0\n",
    "\n",
    "    if fabs(func(a)) <= epsilon:\n",
    "        return a, iter\n",
    "    elif fabs(func(b)) <= epsilon:\n",
    "        return b, iter\n",
    "\n",
    "    c = a + (b-a) / 2\n",
    "    while fabs(a-b) >= epsilon and iter<max_iter:\n",
    "        iter+=1\n",
    "\n",
    "        if sign(func(c)) != sign(func(b)):\n",
    "            a = c\n",
    "        elif sign(func(a)) != sign(func(c)):\n",
    "            b = c\n",
    "        else:\n",
    "            break\n",
    "\n",
    "        c = a + (b-a) / 2\n",
    "\n",
    "    return c, iter"
   ],
   "metadata": {
    "collapsed": false,
    "pycharm": {
     "name": "#%%\n"
    }
   }
  },
  {
   "cell_type": "code",
   "execution_count": 15,
   "outputs": [],
   "source": [
    "def check_fun(A,B,func, method=bisection):\n",
    "    print(f\"\\n{func.__name__}\\n\")\n",
    "    x0, iter = method(7, A, B, 10**(-7),  func)\n",
    "    print(x0, iter)\n",
    "    print(func(x0))\n",
    "    print(\"--------\")\n",
    "    x0, iter = method(15, A, B, 10**(-15),  func)\n",
    "    print(x0, iter)\n",
    "    print(func(x0))\n",
    "    print(\"---------\")\n",
    "    x0, iter = method(33, A, B, 10**(-33),  func)\n",
    "    print(x0, iter)\n",
    "    print(func(x0))"
   ],
   "metadata": {
    "collapsed": false,
    "pycharm": {
     "name": "#%%\n"
    }
   }
  },
  {
   "cell_type": "code",
   "execution_count": 16,
   "outputs": [
    {
     "name": "stdout",
     "output_type": "stream",
     "text": [
      "\n",
      "f1\n",
      "\n",
      "4.730041 24\n",
      "2.518296e-6\n",
      "--------\n",
      "4.7300407448627 51\n",
      "-1.53210777398272e-14\n",
      "---------\n",
      "4.73004074486270402602404810083389 111\n",
      "4.00593428432545057435643412057665e-32\n",
      "\n",
      "f2\n",
      "\n",
      "0.8603336 24\n",
      "0.0\n",
      "--------\n",
      "0.86033358901938 51\n",
      "-2.22044604925031e-16\n",
      "---------\n",
      "0.860333589019379762483893424137662 111\n",
      "5.77778983316170755916793382775478e-34\n",
      "\n",
      "f3\n",
      "\n",
      "1.829384 25\n",
      "-5.960464e-8\n",
      "--------\n",
      "1.82938360193385 51\n",
      "0.0\n",
      "---------\n",
      "1.82938360193384881713621294681415 111\n",
      "1.54074395550978868244478235406794e-33\n"
     ]
    }
   ],
   "source": [
    "check_fun(3/2*pi, 2*pi, f1)\n",
    "check_fun(10**(-33), pi/2,f2)\n",
    "check_fun(mpf(1),mpf(3),f3)"
   ],
   "metadata": {
    "collapsed": false,
    "pycharm": {
     "name": "#%%\n"
    }
   }
  },
  {
   "cell_type": "code",
   "execution_count": 17,
   "outputs": [
    {
     "data": {
      "text/plain": "mpf('-3.085210055428222463650379106700904e-16')"
     },
     "execution_count": 17,
     "metadata": {},
     "output_type": "execute_result"
    }
   ],
   "source": [
    "f3(1.82938360193384881713621294681415)"
   ],
   "metadata": {
    "collapsed": false,
    "pycharm": {
     "name": "#%%\n"
    }
   }
  },
  {
   "cell_type": "markdown",
   "source": [
    "# NEWTON"
   ],
   "metadata": {
    "collapsed": false,
    "pycharm": {
     "name": "#%% md\n"
    }
   }
  },
  {
   "cell_type": "code",
   "execution_count": 18,
   "outputs": [],
   "source": [
    "def f1_der(x):\n",
    "    return sinh(x)*cos(x)-sin(x)*cosh(x)\n",
    "\n",
    "def f2_der(x):\n",
    "    return -1 / (x**2) - 1 / (cos(x)**2)\n",
    "\n",
    "def f3_der(x):\n",
    "    return e**x - ln(2) * 2 ** (-x) - 2  * sin(x)"
   ],
   "metadata": {
    "collapsed": false,
    "pycharm": {
     "name": "#%%\n"
    }
   }
  },
  {
   "cell_type": "code",
   "execution_count": 19,
   "outputs": [],
   "source": [
    "def get_max_iteration(left, right, epsilon):\n",
    "    product = log((right-left)/epsilon)\n",
    "    divider = log(2)\n",
    "\n",
    "    return int(ceil(product / divider))"
   ],
   "metadata": {
    "collapsed": false,
    "pycharm": {
     "name": "#%%\n"
    }
   }
  },
  {
   "cell_type": "code",
   "execution_count": 20,
   "outputs": [],
   "source": [
    "def newton(precision, a, b, epsilon, func, func_der):\n",
    "    mp.dps = precision\n",
    "    if sign(func(a)) == sign(func(b)):\n",
    "        print(\"ERROR: sorry cannot find different signs\")\n",
    "        return None\n",
    "\n",
    "    iter = 0\n",
    "    max_iter = get_max_iteration(a,b,epsilon)\n",
    "    x = b\n",
    "    while iter<max_iter:\n",
    "\n",
    "\n",
    "        if func(x) <= epsilon:\n",
    "            break\n",
    "\n",
    "        if func_der(x) == 0:\n",
    "            return None\n",
    "\n",
    "        x = x - func(x)/func_der(x)\n",
    "        iter+=1\n",
    "\n",
    "    return x, iter"
   ],
   "metadata": {
    "collapsed": false,
    "pycharm": {
     "name": "#%%\n"
    }
   }
  },
  {
   "cell_type": "code",
   "execution_count": 21,
   "outputs": [],
   "source": [
    "def check_fun2(A,B,func, method, deriv):\n",
    "    print(f\"\\n{func.__name__}\\n\")\n",
    "    x0, iter = method(7, A, B, 10**(-7),  func, deriv)\n",
    "    print(x0, iter)\n",
    "    print(func(x0))\n",
    "    print(\"--------\")\n",
    "    x0, iter = method(15, A, B, 10**(-15),  func, deriv)\n",
    "    print(x0, iter)\n",
    "    print(func(x0))\n",
    "    print(\"---------\")\n",
    "    x0, iter = method(33, A, B, 10**(-33),  func, deriv)\n",
    "    print(x0, iter)\n",
    "    print(func(x0))"
   ],
   "metadata": {
    "collapsed": false,
    "pycharm": {
     "name": "#%%\n"
    }
   }
  },
  {
   "cell_type": "code",
   "execution_count": 22,
   "outputs": [
    {
     "name": "stdout",
     "output_type": "stream",
     "text": [
      "\n",
      "f1\n",
      "\n",
      "4.730041 6\n",
      "-9.164214e-7\n",
      "--------\n",
      "4.7300407448627 7\n",
      "-1.53210777398272e-14\n",
      "---------\n",
      "4.73004074486270402602404810083388 8\n",
      "-4.33334237487128066937595037081609e-33\n",
      "\n",
      "f2\n",
      "\n",
      "1.570796 0\n",
      "-2.306324e+34\n",
      "--------\n",
      "1.5707963267949 0\n",
      "-2.30632355873716e+34\n",
      "---------\n",
      "1.57079632679489661923132169163975 0\n",
      "-2.30632355873715617276619838163737e+34\n",
      "\n",
      "f3\n",
      "\n",
      "1.829384 6\n",
      "-5.960464e-8\n",
      "--------\n",
      "1.82938360193385 7\n",
      "0.0\n",
      "---------\n",
      "1.82938360193384881713621294681415 8\n",
      "0.0\n"
     ]
    }
   ],
   "source": [
    "check_fun2(3/2*pi, 2*pi, f1, newton, f1_der)\n",
    "check_fun2(10**(-33), pi/2,f2, newton, f2_der)\n",
    "check_fun2(mpf(1),mpf(3),f3, newton, f3_der)"
   ],
   "metadata": {
    "collapsed": false,
    "pycharm": {
     "name": "#%%\n"
    }
   }
  },
  {
   "cell_type": "markdown",
   "source": [
    "# TODO Styczne"
   ],
   "metadata": {
    "collapsed": false,
    "pycharm": {
     "name": "#%% md\n"
    }
   }
  }
 ],
 "metadata": {
  "kernelspec": {
   "display_name": "Python 3",
   "language": "python",
   "name": "python3"
  },
  "language_info": {
   "codemirror_mode": {
    "name": "ipython",
    "version": 2
   },
   "file_extension": ".py",
   "mimetype": "text/x-python",
   "name": "python",
   "nbconvert_exporter": "python",
   "pygments_lexer": "ipython2",
   "version": "2.7.6"
  }
 },
 "nbformat": 4,
 "nbformat_minor": 0
}
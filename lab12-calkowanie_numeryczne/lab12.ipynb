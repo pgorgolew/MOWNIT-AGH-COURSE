{
 "cells": [
  {
   "cell_type": "markdown",
   "source": [
    "# Metody Obliczeniowe w Nauce i Technice Laboratorium 9\n",
    "## Zastosowania DFT\n",
    "### Paweł Gorgolewski"
   ],
   "metadata": {
    "collapsed": false,
    "pycharm": {
     "name": "#%% md\n"
    }
   }
  },
  {
   "cell_type": "code",
   "execution_count": 1,
   "outputs": [],
   "source": [
    "import numpy as np\n",
    "import scipy\n",
    "from scipy import integrate"
   ],
   "metadata": {
    "collapsed": false,
    "pycharm": {
     "name": "#%%\n"
    }
   }
  },
  {
   "cell_type": "code",
   "execution_count": 2,
   "outputs": [],
   "source": [
    "def f1(x): return np.exp(-(x**2)) * np.log(x)**2\n",
    "def f2(x): return 1 / (x**3 -2*x -5)\n",
    "def f3(x): return x**5 * np.exp(-x) * np.sin(x)\n",
    "def f4(x, y): return 1 / (np.sqrt(x+y) * (1+x+y)) # 0 <= x <= 1, 0 <= y 1 - x\n",
    "def f5(x, y): return x**2 + y**2 # -3 <= x <= 3, -5 <= y <= 5 =\n",
    "\n",
    "functions_1 = (f1, f2, f3)\n",
    "functions_2 = (f4, f5)"
   ],
   "metadata": {
    "collapsed": false,
    "pycharm": {
     "name": "#%%\n"
    }
   }
  },
  {
   "cell_type": "code",
   "execution_count": 3,
   "outputs": [],
   "source": [
    "v = [10,20,30,20,10] # km/h\n",
    "t = list(range(5)) # seconds\n",
    "\n",
    "def trapeziod(y, x):\n",
    "    def calculate(x1, y1, x2, y2):\n",
    "        return (y1+y2) * (x2 - x1) / 2\n",
    "\n",
    "    if len(y) != len(x):\n",
    "        raise Exception(\"Not the same lengths\")\n",
    "\n",
    "    result = 0\n",
    "    for i in range(len(y)-1):\n",
    "        result += calculate(x[i], y[i], x[i+1], y[i+1])\n",
    "\n",
    "    return result\n",
    "\n",
    "\n",
    "np.testing.assert_almost_equal(trapeziod(v,t), np.trapz(v, t))"
   ],
   "metadata": {
    "collapsed": false,
    "pycharm": {
     "name": "#%%\n"
    }
   }
  },
  {
   "cell_type": "markdown",
   "source": [
    "## Większy test"
   ],
   "metadata": {
    "collapsed": false,
    "pycharm": {
     "name": "#%% md\n"
    }
   }
  },
  {
   "cell_type": "code",
   "execution_count": 4,
   "outputs": [],
   "source": [
    "v = np.random.uniform(0, 10**6, size=(10**6))\n",
    "t = np.linspace(0,1,num=10**6)\n",
    "np.testing.assert_almost_equal(trapeziod(v,t), np.trapz(v, t))"
   ],
   "metadata": {
    "collapsed": false,
    "pycharm": {
     "name": "#%%\n"
    }
   }
  },
  {
   "cell_type": "markdown",
   "source": [
    "# 2"
   ],
   "metadata": {
    "collapsed": false,
    "pycharm": {
     "name": "#%% md\n"
    }
   }
  },
  {
   "cell_type": "code",
   "execution_count": 5,
   "outputs": [],
   "source": [
    "def quadr(x, y):\n",
    "    def calculate(i, x, y):\n",
    "        return (x[i+1] - x[i]) * (y[i] + 4*y[i+1] + y[i+2]) / 3\n",
    "\n",
    "    result = 0\n",
    "    # 3 points -> h/3 (y0+ 4y1 + y2)\n",
    "    # h = x2 - x1 = x1 - x0\n",
    "    i = 0\n",
    "    while i+2 <= len(x) - 1:\n",
    "        result += calculate(i, x, y)\n",
    "        i+=2\n",
    "\n",
    "    if i < len(x) - 1:\n",
    "        result += trapeziod(y[-2:], x[-2:])\n",
    "    return result"
   ],
   "metadata": {
    "collapsed": false,
    "pycharm": {
     "name": "#%%\n"
    }
   }
  },
  {
   "cell_type": "markdown",
   "source": [
    "Test"
   ],
   "metadata": {
    "collapsed": false,
    "pycharm": {
     "name": "#%% md\n"
    }
   }
  },
  {
   "cell_type": "code",
   "execution_count": 6,
   "outputs": [
    {
     "ename": "AssertionError",
     "evalue": "\nArrays are not almost equal to 7 decimals\n ACTUAL: 499544.52414621046\n DESIRED: 499524.69436869357",
     "output_type": "error",
     "traceback": [
      "\u001B[1;31m---------------------------------------------------------------------------\u001B[0m",
      "\u001B[1;31mAssertionError\u001B[0m                            Traceback (most recent call last)",
      "\u001B[1;32m<ipython-input-6-6beb60ba50c3>\u001B[0m in \u001B[0;36m<module>\u001B[1;34m\u001B[0m\n\u001B[1;32m----> 1\u001B[1;33m \u001B[0mnp\u001B[0m\u001B[1;33m.\u001B[0m\u001B[0mtesting\u001B[0m\u001B[1;33m.\u001B[0m\u001B[0massert_almost_equal\u001B[0m\u001B[1;33m(\u001B[0m\u001B[0mquadr\u001B[0m\u001B[1;33m(\u001B[0m\u001B[0mt\u001B[0m\u001B[1;33m,\u001B[0m \u001B[0mv\u001B[0m\u001B[1;33m)\u001B[0m\u001B[1;33m,\u001B[0m \u001B[0mintegrate\u001B[0m\u001B[1;33m.\u001B[0m\u001B[0msimps\u001B[0m\u001B[1;33m(\u001B[0m\u001B[0mv\u001B[0m\u001B[1;33m,\u001B[0m \u001B[0mt\u001B[0m\u001B[1;33m)\u001B[0m\u001B[1;33m)\u001B[0m\u001B[1;33m\u001B[0m\u001B[1;33m\u001B[0m\u001B[0m\n\u001B[0m\u001B[0;32m      2\u001B[0m \u001B[1;33m\u001B[0m\u001B[0m\n",
      "    \u001B[1;31m[... skipping hidden 1 frame]\u001B[0m\n",
      "\u001B[1;31mAssertionError\u001B[0m: \nArrays are not almost equal to 7 decimals\n ACTUAL: 499544.52414621046\n DESIRED: 499524.69436869357"
     ]
    }
   ],
   "source": [
    "np.testing.assert_almost_equal(quadr(t, v), integrate.simps(v, t))\n"
   ],
   "metadata": {
    "collapsed": false,
    "pycharm": {
     "name": "#%%\n"
    }
   }
  }
 ],
 "metadata": {
  "kernelspec": {
   "display_name": "Python 3",
   "language": "python",
   "name": "python3"
  },
  "language_info": {
   "codemirror_mode": {
    "name": "ipython",
    "version": 2
   },
   "file_extension": ".py",
   "mimetype": "text/x-python",
   "name": "python",
   "nbconvert_exporter": "python",
   "pygments_lexer": "ipython2",
   "version": "2.7.6"
  }
 },
 "nbformat": 4,
 "nbformat_minor": 0
}
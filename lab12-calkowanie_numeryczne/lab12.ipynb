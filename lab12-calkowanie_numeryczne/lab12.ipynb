{
 "cells": [
  {
   "cell_type": "markdown",
   "source": [
    "# Metody Obliczeniowe w Nauce i Technice Laboratorium 12\n",
    "## Calkowanie numeryczne\n",
    "### Paweł Gorgolewski"
   ],
   "metadata": {
    "collapsed": false,
    "pycharm": {
     "name": "#%% md\n"
    }
   }
  },
  {
   "cell_type": "code",
   "execution_count": 2,
   "outputs": [],
   "source": [
    "import numpy as np\n",
    "from scipy import integrate"
   ],
   "metadata": {
    "collapsed": false,
    "pycharm": {
     "name": "#%%\n"
    }
   }
  },
  {
   "cell_type": "code",
   "execution_count": 3,
   "outputs": [],
   "source": [
    "def f1(x): return np.exp(-(x**2)) * np.log(x)**2\n",
    "def f2(x): return 1 / (x**3 -2*x -5)\n",
    "def f3(x): return x**5 * np.exp(-x) * np.sin(x)\n",
    "def f4(x, y): return 1 / (np.sqrt(x+y) * (1+x+y)) # 0 <= x <= 1, 0 <= y 1 - x\n",
    "def f5(x, y): return x**2 + y**2 # -3 <= x <= 3, -5 <= y <= 5 =\n",
    "\n",
    "functions_1 = (f1, f2, f3)\n",
    "functions_2 = (f4, f5)\n",
    "\n",
    "def kahan_sum(numbers):\n",
    "    result = 0\n",
    "    err = 0\n",
    "    for num in numbers:\n",
    "        y = num - err\n",
    "        temp = result + y\n",
    "        err = (temp - result) - y\n",
    "        result = temp\n",
    "\n",
    "    result = result - err\n",
    "    return result"
   ],
   "metadata": {
    "collapsed": false,
    "pycharm": {
     "name": "#%%\n"
    }
   }
  },
  {
   "cell_type": "markdown",
   "source": [
    "## 1"
   ],
   "metadata": {
    "collapsed": false,
    "pycharm": {
     "name": "#%% md\n"
    }
   }
  },
  {
   "cell_type": "code",
   "execution_count": 4,
   "outputs": [],
   "source": [
    "v = [10,35,70,130,100] # km/h\n",
    "t = [0, 30, 50, 73, 94] # seconds\n",
    "\n",
    "def trapeziod(y, x):\n",
    "    def calculate(x1, y1, x2, y2):\n",
    "        return (y1+y2) * (x2 - x1) / 2\n",
    "\n",
    "    if len(y) != len(x):\n",
    "        raise Exception(\"Not the same lengths\")\n",
    "\n",
    "    result = kahan_sum(calculate(x[i], y[i], x[i+1], y[i+1]) for i in range(len(y)-1))\n",
    "\n",
    "    return result\n",
    "\n",
    "\n",
    "np.testing.assert_almost_equal(trapeziod(v,t), np.trapz(v, t))"
   ],
   "metadata": {
    "collapsed": false,
    "pycharm": {
     "name": "#%%\n"
    }
   }
  },
  {
   "cell_type": "markdown",
   "source": [
    "##### Większy test\n",
    "Kahan_sum daje dobre wyniki, zwykły sum jest błędny dla n ~ $10^6$"
   ],
   "metadata": {
    "collapsed": false,
    "pycharm": {
     "name": "#%% md\n"
    }
   }
  },
  {
   "cell_type": "code",
   "execution_count": 5,
   "outputs": [],
   "source": [
    "n = 10**6\n",
    "X = np.linspace(0, n, num=n)\n",
    "Y = np.random.uniform(low=10, high=220, size=(n,))\n",
    "np.testing.assert_almost_equal(trapeziod(Y,X), np.trapz(Y, X))"
   ],
   "metadata": {
    "collapsed": false,
    "pycharm": {
     "name": "#%%\n"
    }
   }
  },
  {
   "cell_type": "markdown",
   "source": [
    "# 2"
   ],
   "metadata": {
    "collapsed": false,
    "pycharm": {
     "name": "#%% md\n"
    }
   }
  },
  {
   "cell_type": "code",
   "execution_count": 6,
   "outputs": [],
   "source": [
    "def quadr(x, y):\n",
    "    return kahan_sum(generate_numbers_to_sum(x,y))\n",
    "\n",
    "def calculate(i, x, y):\n",
    "    return (x[i+1] - x[i]) * (y[i] + 4*y[i+1] + y[i+2]) / 3\n",
    "\n",
    "def generate_numbers_to_sum(x, y):\n",
    "    i = 0\n",
    "    while i+2 <= len(x) - 1:\n",
    "        yield calculate(i, x, y)\n",
    "        i+=2\n",
    "\n",
    "    if i < len(x) - 1:\n",
    "        yield trapeziod(y[-2:], x[-2:])"
   ],
   "metadata": {
    "collapsed": false,
    "pycharm": {
     "name": "#%%\n"
    }
   }
  },
  {
   "cell_type": "markdown",
   "source": [
    "##### Test\n",
    "Prawie dobrze, wynik lepszy niż przy uzyciu sum()"
   ],
   "metadata": {
    "collapsed": false,
    "pycharm": {
     "name": "#%% md\n"
    }
   }
  },
  {
   "cell_type": "code",
   "execution_count": 7,
   "outputs": [
    {
     "ename": "AssertionError",
     "evalue": "\nArrays are not almost equal to 7 decimals\n ACTUAL: 0.5001293329292064\n DESIRED: 0.5001157101692912",
     "output_type": "error",
     "traceback": [
      "\u001B[1;31m---------------------------------------------------------------------------\u001B[0m",
      "\u001B[1;31mAssertionError\u001B[0m                            Traceback (most recent call last)",
      "\u001B[1;32m<ipython-input-7-81364acef2ce>\u001B[0m in \u001B[0;36m<module>\u001B[1;34m\u001B[0m\n\u001B[0;32m      2\u001B[0m \u001B[0mX\u001B[0m \u001B[1;33m=\u001B[0m \u001B[0mnp\u001B[0m\u001B[1;33m.\u001B[0m\u001B[0mlinspace\u001B[0m\u001B[1;33m(\u001B[0m\u001B[1;36m0\u001B[0m\u001B[1;33m,\u001B[0m \u001B[1;36m1\u001B[0m\u001B[1;33m,\u001B[0m \u001B[0mnum\u001B[0m\u001B[1;33m=\u001B[0m\u001B[0mn\u001B[0m\u001B[1;33m)\u001B[0m\u001B[1;33m\u001B[0m\u001B[1;33m\u001B[0m\u001B[0m\n\u001B[0;32m      3\u001B[0m \u001B[0mY\u001B[0m \u001B[1;33m=\u001B[0m \u001B[0mnp\u001B[0m\u001B[1;33m.\u001B[0m\u001B[0mrandom\u001B[0m\u001B[1;33m.\u001B[0m\u001B[0muniform\u001B[0m\u001B[1;33m(\u001B[0m\u001B[0mlow\u001B[0m\u001B[1;33m=\u001B[0m\u001B[1;36m0\u001B[0m\u001B[1;33m,\u001B[0m \u001B[0mhigh\u001B[0m\u001B[1;33m=\u001B[0m\u001B[1;36m1\u001B[0m\u001B[1;33m,\u001B[0m \u001B[0msize\u001B[0m\u001B[1;33m=\u001B[0m\u001B[1;33m(\u001B[0m\u001B[0mn\u001B[0m\u001B[1;33m,\u001B[0m\u001B[1;33m)\u001B[0m\u001B[1;33m)\u001B[0m\u001B[1;33m\u001B[0m\u001B[1;33m\u001B[0m\u001B[0m\n\u001B[1;32m----> 4\u001B[1;33m \u001B[0mnp\u001B[0m\u001B[1;33m.\u001B[0m\u001B[0mtesting\u001B[0m\u001B[1;33m.\u001B[0m\u001B[0massert_almost_equal\u001B[0m\u001B[1;33m(\u001B[0m\u001B[0mquadr\u001B[0m\u001B[1;33m(\u001B[0m\u001B[0mX\u001B[0m\u001B[1;33m,\u001B[0m \u001B[0mY\u001B[0m\u001B[1;33m)\u001B[0m\u001B[1;33m,\u001B[0m \u001B[0mintegrate\u001B[0m\u001B[1;33m.\u001B[0m\u001B[0msimpson\u001B[0m\u001B[1;33m(\u001B[0m\u001B[0mY\u001B[0m\u001B[1;33m,\u001B[0m \u001B[0mX\u001B[0m\u001B[1;33m)\u001B[0m\u001B[1;33m)\u001B[0m\u001B[1;33m\u001B[0m\u001B[1;33m\u001B[0m\u001B[0m\n\u001B[0m",
      "    \u001B[1;31m[... skipping hidden 1 frame]\u001B[0m\n",
      "\u001B[1;31mAssertionError\u001B[0m: \nArrays are not almost equal to 7 decimals\n ACTUAL: 0.5001293329292064\n DESIRED: 0.5001157101692912"
     ]
    }
   ],
   "source": [
    "n=10**7\n",
    "X = np.linspace(0, 1, num=n)\n",
    "Y = np.random.uniform(low=0, high=1, size=(n,))\n",
    "np.testing.assert_almost_equal(quadr(X, Y), integrate.simpson(Y, X))"
   ],
   "metadata": {
    "collapsed": false,
    "pycharm": {
     "name": "#%%\n"
    }
   }
  },
  {
   "cell_type": "code",
   "execution_count": null,
   "outputs": [],
   "source": [],
   "metadata": {
    "collapsed": false,
    "pycharm": {
     "name": "#%%\n"
    }
   }
  }
 ],
 "metadata": {
  "kernelspec": {
   "display_name": "Python 3",
   "language": "python",
   "name": "python3"
  },
  "language_info": {
   "codemirror_mode": {
    "name": "ipython",
    "version": 2
   },
   "file_extension": ".py",
   "mimetype": "text/x-python",
   "name": "python",
   "nbconvert_exporter": "python",
   "pygments_lexer": "ipython2",
   "version": "2.7.6"
  }
 },
 "nbformat": 4,
 "nbformat_minor": 0
}
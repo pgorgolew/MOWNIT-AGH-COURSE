{
 "cells": [
  {
   "cell_type": "markdown",
   "metadata": {
    "collapsed": true,
    "pycharm": {
     "name": "#%% md\n"
    }
   },
   "source": [
    "# Metody Obliczeniowe w Nauce i Technice Laboratorium 10\n",
    "## DFT, IDFT\n",
    "### Paweł Gorgolewski"
   ]
  },
  {
   "cell_type": "code",
   "execution_count": 1,
   "outputs": [],
   "source": [
    "import numpy as np"
   ],
   "metadata": {
    "collapsed": false,
    "pycharm": {
     "name": "#%%\n"
    }
   }
  },
  {
   "cell_type": "markdown",
   "source": [
    "1.1 FFT"
   ],
   "metadata": {
    "collapsed": false,
    "pycharm": {
     "name": "#%% md\n"
    }
   }
  },
  {
   "cell_type": "code",
   "execution_count": 2,
   "outputs": [],
   "source": [
    "def create_F_matrix(n):\n",
    "    F = np.zeros((n,n), dtype=complex)\n",
    "    for i in range(n):\n",
    "        for j in range(n):\n",
    "            # see http://webhome.phy.duke.edu/~rgb/Class/phy51/phy51/node15.html\n",
    "            F[i][j] = np.exp(-1j * 2 * np.pi * i * j / n)\n",
    "\n",
    "    return F\n",
    "\n",
    "def FFT(x: np.array):\n",
    "    n = len(x)\n",
    "    return create_F_matrix(n) @ x"
   ],
   "metadata": {
    "collapsed": false,
    "pycharm": {
     "name": "#%%\n"
    }
   }
  },
  {
   "cell_type": "markdown",
   "source": [
    "sprawdzenie poprawnosci"
   ],
   "metadata": {
    "collapsed": false,
    "pycharm": {
     "name": "#%% md\n"
    }
   }
  },
  {
   "cell_type": "code",
   "execution_count": 3,
   "outputs": [],
   "source": [
    "x = list(range(100))\n",
    "\n",
    "my_fft = FFT(x)\n",
    "np_fft = np.fft.fft(x)\n",
    "\n",
    "np.testing.assert_allclose(my_fft, np_fft)"
   ],
   "metadata": {
    "collapsed": false,
    "pycharm": {
     "name": "#%%\n"
    }
   }
  },
  {
   "cell_type": "markdown",
   "source": [
    "Algorytm jest poprawny, assert nie zgłasza błędu"
   ],
   "metadata": {
    "collapsed": false,
    "pycharm": {
     "name": "#%% md\n"
    }
   }
  },
  {
   "cell_type": "markdown",
   "source": [
    "1.2 IDFT"
   ],
   "metadata": {
    "collapsed": false,
    "pycharm": {
     "name": "#%% md\n"
    }
   }
  },
  {
   "cell_type": "code",
   "execution_count": 4,
   "outputs": [],
   "source": [
    "#https://numpy.org/doc/stable/reference/generated/numpy.conjugate.html#:~:text=2)%0A%3E%3E%3E-,np.conjugate(x),-array(%5B%5B%201.%2D1\n",
    "def IDFT(y: np.array):\n",
    "    F = create_F_matrix(len(y))\n",
    "    F_inv = np.conj(F) / len(y)\n",
    "    return F_inv @ y"
   ],
   "metadata": {
    "collapsed": false,
    "pycharm": {
     "name": "#%%\n"
    }
   }
  },
  {
   "cell_type": "markdown",
   "source": [
    "sprawdzanie poprawności"
   ],
   "metadata": {
    "collapsed": false,
    "pycharm": {
     "name": "#%% md\n"
    }
   }
  },
  {
   "cell_type": "code",
   "execution_count": 5,
   "outputs": [],
   "source": [
    "my_idft = IDFT(np_fft)\n",
    "np_idft = np.fft.ifft(np_fft)\n",
    "\n",
    "np.testing.assert_allclose(my_idft, np_idft, atol=1e-05)"
   ],
   "metadata": {
    "collapsed": false,
    "pycharm": {
     "name": "#%%\n"
    }
   }
  },
  {
   "cell_type": "markdown",
   "source": [
    "1.3 algorytm Cooleya-Turkeya -> można zoptymalizować"
   ],
   "metadata": {
    "collapsed": false,
    "pycharm": {
     "name": "#%% md\n"
    }
   }
  },
  {
   "cell_type": "code",
   "execution_count": 6,
   "outputs": [],
   "source": [
    "def cooley_turkey_fft(x: np.array):\n",
    "    def create_S_diag(n: int):\n",
    "        S_diag = np.zeros(n, dtype=complex)\n",
    "        for i in range(n):\n",
    "            S_diag[i] = np.exp(-1j * np.pi * i / n)\n",
    "\n",
    "        return S_diag\n",
    "\n",
    "    n = len(x)\n",
    "    if n == 2:\n",
    "        return create_F_matrix(2) @ x\n",
    "\n",
    "    even, odd = cooley_turkey_fft(x[0::2]), cooley_turkey_fft(x[1::2])\n",
    "    S_diag = create_S_diag(n // 2)\n",
    "    return np.array([even[k] + S_diag[k] * odd[k] for k in range(n // 2)] +\n",
    "                    [even[k] - S_diag[k] * odd[k] for k in range(n // 2)])"
   ],
   "metadata": {
    "collapsed": false,
    "pycharm": {
     "name": "#%%\n"
    }
   }
  },
  {
   "cell_type": "code",
   "execution_count": 7,
   "outputs": [],
   "source": [
    "x = np.array([1,2,3,4,5,6,7,8])\n",
    "\n",
    "my_fft = cooley_turkey_fft(x)\n",
    "np_fft = np.fft.fft(x)\n",
    "\n",
    "np.testing.assert_allclose(my_fft, np_fft)"
   ],
   "metadata": {
    "collapsed": false,
    "pycharm": {
     "name": "#%%\n"
    }
   }
  }
 ],
 "metadata": {
  "kernelspec": {
   "display_name": "Python 3",
   "language": "python",
   "name": "python3"
  },
  "language_info": {
   "codemirror_mode": {
    "name": "ipython",
    "version": 2
   },
   "file_extension": ".py",
   "mimetype": "text/x-python",
   "name": "python",
   "nbconvert_exporter": "python",
   "pygments_lexer": "ipython2",
   "version": "2.7.6"
  }
 },
 "nbformat": 4,
 "nbformat_minor": 0
}
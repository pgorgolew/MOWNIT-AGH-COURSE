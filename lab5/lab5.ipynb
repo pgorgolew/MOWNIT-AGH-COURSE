{
 "cells": [
  {
   "cell_type": "code",
   "execution_count": 27,
   "outputs": [],
   "source": [
    "from PIL import Image\n",
    "import numpy as np\n",
    "import scipy\n",
    "import scipy.misc"
   ],
   "metadata": {
    "collapsed": false,
    "pycharm": {
     "name": "#%%\n"
    }
   }
  },
  {
   "cell_type": "markdown",
   "source": [
    "1.1"
   ],
   "metadata": {
    "collapsed": false
   }
  },
  {
   "cell_type": "markdown",
   "source": [
    "A = U E V^T\n",
    "U jest ortogonalna -> U U^T = I (m,m)\n",
    "E  diagonalna z sigmami na diagonali, ale pozniej ma same zera (m,m)\n",
    "V tez ortogonalna\n",
    "\n",
    "y = Ax = U E V^T x\n",
    "V^T x -> rotacja\n",
    "E ( V^T x) -> skalowanie czyli z koła robi elipse np/ miarą są wartości osobliwe na diagonali\n",
    "U () rotacja znowu\n",
    "\n",
    "wartośći osobliwe opisują wielkość skalowania\n"
   ],
   "metadata": {
    "collapsed": false
   }
  },
  {
   "cell_type": "code",
   "execution_count": 28,
   "metadata": {
    "collapsed": true
   },
   "outputs": [],
   "source": [
    "def f1(s,t):\n",
    "    pass"
   ]
  },
  {
   "cell_type": "markdown",
   "source": [
    "### 2"
   ],
   "metadata": {
    "collapsed": false
   }
  },
  {
   "cell_type": "code",
   "execution_count": 29,
   "outputs": [],
   "source": [
    "im = scipy.misc.ascent()\n",
    "I = np.asarray(im)\n",
    "u,s,vh = scipy.linalg.svd(I)"
   ],
   "metadata": {
    "collapsed": false,
    "pycharm": {
     "name": "#%%\n"
    }
   }
  },
  {
   "cell_type": "code",
   "execution_count": 32,
   "outputs": [],
   "source": [
    "k = 20\n",
    "B = np.matrix(scipy.linalg.diagsvd(s[:k], k, k))\n",
    "u1 = u[:, :k]\n",
    "vh1 = vh[:k, :]\n",
    "C = np.asarray(u[:, :k] @ B @ vh[:k, :])\n",
    "c = Image.fromarray(C)\n",
    "c.save(\"NotLena.gif\")\n"
   ],
   "metadata": {
    "collapsed": false,
    "pycharm": {
     "name": "#%%\n"
    }
   }
  },
  {
   "cell_type": "code",
   "execution_count": 18,
   "outputs": [],
   "source": [],
   "metadata": {
    "collapsed": false,
    "pycharm": {
     "name": "#%%\n"
    }
   }
  },
  {
   "cell_type": "code",
   "execution_count": null,
   "outputs": [],
   "source": [],
   "metadata": {
    "collapsed": false,
    "pycharm": {
     "name": "#%%\n"
    }
   }
  }
 ],
 "metadata": {
  "kernelspec": {
   "display_name": "Python 3",
   "language": "python",
   "name": "python3"
  },
  "language_info": {
   "codemirror_mode": {
    "name": "ipython",
    "version": 2
   },
   "file_extension": ".py",
   "mimetype": "text/x-python",
   "name": "python",
   "nbconvert_exporter": "python",
   "pygments_lexer": "ipython2",
   "version": "2.7.6"
  }
 },
 "nbformat": 4,
 "nbformat_minor": 0
}
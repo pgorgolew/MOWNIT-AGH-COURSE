{
 "cells": [
  {
   "cell_type": "markdown",
   "source": [
    "# Metody Obliczeniowe w Nauce i Technice - aboratorium nr 1\n",
    "### Paweł Gorgolewski"
   ],
   "metadata": {
    "collapsed": false,
    "pycharm": {
     "name": "#%% md\n"
    }
   }
  },
  {
   "cell_type": "markdown",
   "source": [
    "## 1. Sumowanie liczb pojedynczej precyzji\n",
    "\n",
    "### 1.1. Program iteracyjnie zliczający sumę tablicy"
   ],
   "metadata": {
    "collapsed": false,
    "pycharm": {
     "name": "#%% md\n"
    }
   }
  },
  {
   "cell_type": "code",
   "execution_count": 77,
   "outputs": [],
   "source": [
    "from numpy import float32, float64, linspace, arange\n",
    "import matplotlib.pyplot as plt\n",
    "import time"
   ],
   "metadata": {
    "collapsed": false,
    "pycharm": {
     "name": "#%%\n"
    }
   }
  },
  {
   "cell_type": "code",
   "execution_count": null,
   "outputs": [],
   "source": [
    "v = 0.53125\n",
    "N = 10 ** 7\n",
    "numbers = [float32(v) for _ in range(N)]\n",
    "precise_sum = N*v"
   ],
   "metadata": {
    "collapsed": false,
    "pycharm": {
     "name": "#%%\n",
     "is_executing": true
    }
   }
  },
  {
   "cell_type": "code",
   "execution_count": null,
   "outputs": [],
   "source": [
    "def iterative_sum(numbers):\n",
    "    result = float32(0.0)\n",
    "    for num in numbers:\n",
    "        result += num\n",
    "\n",
    "    return result\n",
    "\n",
    "iterative = iterative_sum(numbers)\n",
    "\n",
    "print(f\"Iterative sum is {iterative}\")\n",
    "print(f\"Precise sum is {precise_sum}\")"
   ],
   "metadata": {
    "collapsed": false,
    "pycharm": {
     "name": "#%%\n",
     "is_executing": true
    }
   }
  },
  {
   "cell_type": "markdown",
   "source": [
    "Suma algorytmu znacząco różni się wartości prawdziwej. Łatwo wyciągnąć z tego wnioski - taki algorytm nie jest poprawny"
   ],
   "metadata": {
    "collapsed": false
   }
  },
  {
   "cell_type": "markdown",
   "source": [
    "### 1.2. Błąd względny i bezwględny algorytmu iteracyjnego"
   ],
   "metadata": {
    "collapsed": false
   }
  },
  {
   "cell_type": "code",
   "execution_count": null,
   "outputs": [],
   "source": [
    "def absolute_error(counted, precise):\n",
    "    return abs(precise - counted)\n",
    "\n",
    "def relative_error(counted, precise):\n",
    "    return absolute_error(counted, precise) / precise"
   ],
   "metadata": {
    "collapsed": false,
    "pycharm": {
     "name": "#%%\n",
     "is_executing": true
    }
   }
  },
  {
   "cell_type": "code",
   "execution_count": null,
   "outputs": [],
   "source": [
    "print(f\"Absolute error of iterative sum: {absolute_error(iterative, precise_sum)}\")\n",
    "print(f\"Relative error of iterative sum: {relative_error(iterative, precise_sum)}\")"
   ],
   "metadata": {
    "collapsed": false,
    "pycharm": {
     "name": "#%%\n",
     "is_executing": true
    }
   }
  },
  {
   "cell_type": "markdown",
   "source": [
    "Błąd względny algorytmu dla podanego przykładu wynosi aż 5,3%! Potwierdza to tylko, że algorytm jest niepoprawny. Błąd algorytmu jest tak duży, ponieważ dochodzi do wielu 'ucięć' podczas dodawania. Zauważmy, że w pewnym momencie, suma staje się już na tyle duża, że dodanie po raz kolejny tak małej liczby jak 0.53125, spowoduje przesunięcie i niedokładność"
   ],
   "metadata": {
    "collapsed": false,
    "pycharm": {
     "name": "#%% md\n"
    }
   }
  },
  {
   "cell_type": "markdown",
   "source": [
    "### 1.3. Wykres błądu względnego od ilości iteracji algorytmu"
   ],
   "metadata": {
    "collapsed": false
   }
  },
  {
   "cell_type": "code",
   "execution_count": null,
   "outputs": [],
   "source": [
    "def relative_error_over_time_plot(numbers, step=25000):\n",
    "    relative_error_in_steps = [float32(0.0)]\n",
    "    result = float32(0.0)\n",
    "    for i in range(len(numbers)):\n",
    "        result += numbers[i]\n",
    "        if (i + 1) % step == 0:\n",
    "            tmp_error = relative_error(result, v*(i+1))\n",
    "            relative_error_in_steps.append(tmp_error)\n",
    "\n",
    "    steps = [x * step for x in range(0, N // step + 1)]\n",
    "    plt.plot(steps, relative_error_in_steps)\n",
    "    plt.xlabel('STEPS')\n",
    "    plt.ylabel('ERROR')\n",
    "    plt.title(\"Relative error over iterations\")\n",
    "    plt.show()"
   ],
   "metadata": {
    "collapsed": false,
    "pycharm": {
     "name": "#%%\n",
     "is_executing": true
    }
   }
  },
  {
   "cell_type": "code",
   "execution_count": null,
   "outputs": [],
   "source": [
    "relative_error_over_time_plot(numbers)"
   ],
   "metadata": {
    "collapsed": false,
    "pycharm": {
     "name": "#%%\n",
     "is_executing": true
    }
   }
  },
  {
   "cell_type": "markdown",
   "source": [
    "Wykres potwierdza wcześniejszą iterpretację błędu. Początkowo błąd nie występuje gdyż dodawane do siebie liczby są tego samego rzędu. W miarę zwiększania się sumy w algorytmie, błąd pojawia się i rośnie."
   ],
   "metadata": {
    "collapsed": false
   }
  },
  {
   "cell_type": "markdown",
   "source": [
    "### 1.4. i 1.5. Rekurencyjny algorytm sumowania oraz błąd względny i bezwględny"
   ],
   "metadata": {
    "collapsed": false
   }
  },
  {
   "cell_type": "code",
   "execution_count": null,
   "outputs": [],
   "source": [
    "def recursive_sum(numbers):\n",
    "    if len(numbers) > 2:\n",
    "        return recursive_sum(numbers[:len(numbers) // 2]) + recursive_sum(numbers[len(numbers) // 2:])\n",
    "    else:\n",
    "        return numbers[0] if len(numbers) == 1 else numbers[0] + numbers[1]\n",
    "\n",
    "recursive = recursive_sum(numbers)\n",
    "\n",
    "print(f\"Recursive sum is {recursive}\")\n",
    "print(f\"Precise sum is {precise_sum}\")"
   ],
   "metadata": {
    "collapsed": false,
    "pycharm": {
     "name": "#%%\n",
     "is_executing": true
    }
   }
  },
  {
   "cell_type": "code",
   "execution_count": null,
   "outputs": [],
   "source": [
    "print(f\"Absolute error of recursive sum: {absolute_error(recursive, precise_sum)}\")\n",
    "print(f\"Relative error of recursive sum: {relative_error(recursive, precise_sum)}\")"
   ],
   "metadata": {
    "collapsed": false,
    "pycharm": {
     "name": "#%%\n",
     "is_executing": true
    }
   }
  },
  {
   "cell_type": "markdown",
   "source": [
    "Rekurencyjny algorytm sortowania jest zdecydowanie lepszy niż iteracyjny. Dla takich samych wartości, na których był testowany algorytm iteracyjny zwraca błąd równy 0! Algorytm zawsze dodaje do siebie dwie takie same liczby (krańcowych przypadków gdy jest nieparzysta liczba elementów), przez co nie dochodzi do zaokrąglania."
   ],
   "metadata": {
    "collapsed": false
   }
  },
  {
   "cell_type": "markdown",
   "source": [
    "### 1.6. Czas działania algorytm iteracyjnego i rekurencyjnego"
   ],
   "metadata": {
    "collapsed": false
   }
  },
  {
   "cell_type": "code",
   "execution_count": null,
   "outputs": [],
   "source": [
    "iterative_start = time.time()\n",
    "iterative_sum(numbers)\n",
    "iterative_time = time.time() - iterative_start\n",
    "\n",
    "recursive_start = time.time()\n",
    "recursive_sum(numbers)\n",
    "recursive_time = time.time() - recursive_start\n",
    "\n",
    "print(f\"Iterative sum takes {iterative_time} seconds\")\n",
    "print(f\"Recursive sum takes {recursive_time} seconds\")"
   ],
   "metadata": {
    "collapsed": false,
    "pycharm": {
     "name": "#%%\n",
     "is_executing": true
    }
   }
  },
  {
   "cell_type": "markdown",
   "source": [
    "Czas sumowania algorytmu rekurencyjnego jest o wiele dłuższy niż iteracyjnego. W moim przypadku jest on dłuższy około 6 razy."
   ],
   "metadata": {
    "collapsed": false
   }
  },
  {
   "cell_type": "markdown",
   "source": [
    "### 1.7 Przykład niepoprawnego wyniku algorytmu rekurencyjnego"
   ],
   "metadata": {
    "collapsed": false
   }
  },
  {
   "cell_type": "code",
   "execution_count": null,
   "outputs": [],
   "source": [
    "difficult_example = [float32(0.81111) for _ in range(N)]\n",
    "recursive = recursive_sum(difficult_example)\n",
    "precise_sum = 0.81111*N\n",
    "\n",
    "print(f\"Recursive sum is {recursive}\")\n",
    "print(f\"Precise sum is {precise_sum}\")\n",
    "print(f\"Absolute error is: {absolute_error(recursive, precise_sum)}\")\n",
    "print(f\"Relative error is: {relative_error(recursive, precise_sum)}\")"
   ],
   "metadata": {
    "collapsed": false,
    "pycharm": {
     "name": "#%%\n",
     "is_executing": true
    }
   }
  },
  {
   "cell_type": "markdown",
   "source": [
    "Niestety algorytm rekurencyjny również nie jest poprawnym algorytmem sumowania. Oprócz pokazanego wyżej przykładu, algorytm ten zwróci niepoprawny wynik dla np. tablicy posortowaniej rosnąco. Różnice pomiędzy dodawanymi liczbami, podobnie jak algorytm iteracyjny, sprawią, że algorytm będzie zwracał niepoprawny wynik."
   ],
   "metadata": {
    "collapsed": false
   }
  },
  {
   "cell_type": "markdown",
   "source": [
    "## 2. Algorytm Kahana"
   ],
   "metadata": {
    "collapsed": false
   }
  },
  {
   "cell_type": "markdown",
   "source": [
    "### 2.1. Algorytm Kahana, błąd względny i bezwględny"
   ],
   "metadata": {
    "collapsed": false
   }
  },
  {
   "cell_type": "code",
   "execution_count": null,
   "outputs": [],
   "source": [
    "def kahan_sum(numbers):\n",
    "    result = float32(0)\n",
    "    err = float32(0)\n",
    "    for num in numbers:\n",
    "        y = num - err\n",
    "        temp = result + y\n",
    "        err = (temp - result) - y\n",
    "        result = temp\n",
    "\n",
    "    result = result - err\n",
    "    return result"
   ],
   "metadata": {
    "collapsed": false,
    "pycharm": {
     "name": "#%%\n",
     "is_executing": true
    }
   }
  },
  {
   "cell_type": "code",
   "execution_count": null,
   "outputs": [],
   "source": [
    "kahan = kahan_sum(difficult_example)\n",
    "\n",
    "print(f\"Kahan sum is {kahan}\")\n",
    "print(f\"Precise sum is {precise_sum}\")\n",
    "print(f\"Absolute error is: {absolute_error(kahan, precise_sum)}\")\n",
    "print(f\"Relative error is: {relative_error(kahan, precise_sum)}\")"
   ],
   "metadata": {
    "collapsed": false,
    "pycharm": {
     "name": "#%%\n",
     "is_executing": true
    }
   }
  },
  {
   "cell_type": "markdown",
   "source": [
    "Algorytm Kahana jest zdecydowanie lepszym algorytmem sumowania niż poprzednie dwa. Potwierdza to fakt, iż zwraca poprawny wynik dla przykładu w którym niepoprawny był algorytm rekurencyjny."
   ],
   "metadata": {
    "collapsed": false,
    "pycharm": {
     "name": "#%% md\n"
    }
   }
  },
  {
   "cell_type": "markdown",
   "source": [
    "### 2.2. Własności algorytmu Kahana\n",
    "\n",
    "Algorytm zawdzięcza swoją precyzję zmiennej err. Przechowuje ona błąd, jaki powstał w danej iteracji i używa jej w nastepnej do poprawienia wyniku. Dzięki temu sumowanie jest cały czas naprawianie i ostatecznie nie dostajemy błędu."
   ],
   "metadata": {
    "collapsed": false
   }
  },
  {
   "cell_type": "markdown",
   "source": [
    "### 2.3 Czas działania algoytmu Kahana i rekurencyjnego"
   ],
   "metadata": {
    "collapsed": false
   }
  },
  {
   "cell_type": "code",
   "execution_count": null,
   "outputs": [],
   "source": [
    "recursive_start = time.time()\n",
    "recursive_sum(difficult_example)\n",
    "recursive_time = time.time() - recursive_start\n",
    "\n",
    "kahan_start = time.time()\n",
    "kahan_sum(difficult_example)\n",
    "kahan_time = time.time() - kahan_start\n",
    "\n",
    "print(f\"Recursive sum takes {recursive_time} seconds\")\n",
    "print(f\"Kahan sum takes {kahan_time} seconds\")"
   ],
   "metadata": {
    "collapsed": false,
    "pycharm": {
     "name": "#%%\n",
     "is_executing": true
    }
   }
  },
  {
   "cell_type": "markdown",
   "source": [
    "W moim przypadku algorytm Kahana jest nieco szybszy od rekurencyjnego. Nie mniej jednak, oba algorytmy wykonują się w podobnym czasie - na innej maszynie, algorytm rekurencyjny mógłby okazać się szybszy"
   ],
   "metadata": {
    "collapsed": false
   }
  },
  {
   "cell_type": "markdown",
   "source": [
    "### 2.4 Dodatkowy podpunkt - dziwny przypadek algorytmu Kahana\n",
    "\n",
    "Natchniony odkryciem jednej ze studentek, poczyniłem starania i znalazłem przykład w którym nastepuje błąd w algorytmie Kahana (była to metoda prób i błędów, możliwe że jest to dokładnie taki sam przykład co u odkrywczyni)"
   ],
   "metadata": {
    "collapsed": false,
    "pycharm": {
     "name": "#%% md\n"
    }
   }
  },
  {
   "cell_type": "code",
   "execution_count": null,
   "outputs": [],
   "source": [
    "strange_example = [float32(0.652148) for _ in range(N)]\n",
    "precise_sum_of_strange_example = 0.652148 * N\n",
    "strange_kahan_sum = kahan_sum(strange_example)\n",
    "\n",
    "print(f\"Kahan sum is {strange_kahan_sum}\")\n",
    "print(f\"Precise sum is {precise_sum_of_strange_example}\")\n",
    "print(f\"Absolute error is: {absolute_error(strange_kahan_sum, precise_sum_of_strange_example)}\")\n",
    "print(f\"Relative error is: {relative_error(strange_kahan_sum, precise_sum_of_strange_example)}\")\n"
   ],
   "metadata": {
    "collapsed": false,
    "pycharm": {
     "name": "#%%\n",
     "is_executing": true
    }
   }
  },
  {
   "cell_type": "markdown",
   "source": [
    "Błąd który tu wystąpił jest minimalny, lecz rezultat zdecydowanie niespodziewany - algorytm Kahana uznaje się jako poprawny algorytm sumowania. Prawdopodobnie wystąpił on z powodu specyfiki języka - Python dużo operacji wykonuje 'pod spodem' i mogło to wpłynąć na ten co prawda minimalny, ale jednak błąd."
   ],
   "metadata": {
    "collapsed": false
   }
  },
  {
   "cell_type": "markdown",
   "source": [
    "## 3. Sumy częściowe"
   ],
   "metadata": {
    "collapsed": false
   }
  },
  {
   "cell_type": "code",
   "execution_count": null,
   "outputs": [],
   "source": [
    "def dzeta_forward(n, s, float_type=float32):\n",
    "    \"\"\"Dzeta forward\"\"\"\n",
    "    result = float_type(0.0)\n",
    "    for k in range(1, n+1):\n",
    "        result += float_type(1 / float_type(k**s))\n",
    "    return result\n",
    "\n",
    "\n",
    "def dzeta_backward(n, s, float_type=float32):\n",
    "    \"\"\"Dzeta backward\"\"\"\n",
    "    result = float_type(0.0)\n",
    "    for k in range(n, 0, -1):\n",
    "        result += float_type(1 / float_type(k**s))\n",
    "    return result\n",
    "\n",
    "\n",
    "def eta_forward(n, s, float_type=float32):\n",
    "    \"\"\"Eta forward\"\"\"\n",
    "    result = float_type(0.0)\n",
    "    for k in range(1, n+1):\n",
    "        result += float_type(float_type((-1) ** float_type(k - 1)) / float_type(k**s))\n",
    "    return result\n",
    "\n",
    "\n",
    "def eta_backward(n, s, float_type=float32):\n",
    "    \"\"\"Eta backward\"\"\"\n",
    "    result = float_type(0.0)\n",
    "    for k in range(n, 0, -1):\n",
    "        result += float_type(float_type((-1) ** float_type(k - 1)) / float_type(k**s))\n",
    "\n",
    "    return result"
   ],
   "metadata": {
    "collapsed": false,
    "pycharm": {
     "name": "#%%\n",
     "is_executing": true
    }
   }
  },
  {
   "cell_type": "code",
   "execution_count": null,
   "outputs": [],
   "source": [
    "def check_funcs_for_different_values(forward_func, backward_func):\n",
    "    N = [50, 100, 200, 500, 1000]\n",
    "    S = [2, 3.6667, 5, 7.2, 10]\n",
    "\n",
    "    for i in range(len(N)):\n",
    "        n = N[i]\n",
    "        s = S[i]\n",
    "\n",
    "        float32_result_forward = forward_func(n,s)\n",
    "        float64_result_forward = forward_func(n,s, float64)\n",
    "\n",
    "        float32_result_backward = backward_func(n,s)\n",
    "        float64_result_backward = backward_func(n,s, float64)\n",
    "\n",
    "        float_diff_forward = abs(float32_result_forward-float64_result_forward)\n",
    "        float_diff_backward = abs(float32_result_backward-float64_result_backward)\n",
    "\n",
    "        front_back_32_diff = abs(float32_result_backward-float32_result_forward)\n",
    "        front_back_64_diff = abs(float64_result_backward-float64_result_forward)\n",
    "\n",
    "\n",
    "        print(f\"n = {n}, s = {s}\")\n",
    "        print(f\"{forward_func.__doc__} float32: {float32_result_forward}, {backward_func.__doc__} float32: {float32_result_backward}\")\n",
    "        print(f\"{forward_func.__doc__} float64: {float64_result_forward}, {backward_func.__doc__} float64: {float64_result_backward}\")\n",
    "\n",
    "        print(f\"(float32 and float64 difference) Forward: {float_diff_forward}, Backward: {float_diff_backward}\")\n",
    "        print(f\"(forward and backward difference) float32: {front_back_32_diff}, float64: {front_back_64_diff}\\n\")"
   ],
   "metadata": {
    "collapsed": false,
    "pycharm": {
     "name": "#%%\n",
     "is_executing": true
    }
   }
  },
  {
   "cell_type": "markdown",
   "source": [],
   "metadata": {
    "collapsed": false,
    "pycharm": {
     "name": "#%% md\n"
    }
   }
  },
  {
   "cell_type": "code",
   "execution_count": null,
   "outputs": [],
   "source": [
    "check_funcs_for_different_values(eta_forward, eta_backward)"
   ],
   "metadata": {
    "collapsed": false,
    "pycharm": {
     "name": "#%%\n",
     "is_executing": true
    }
   }
  },
  {
   "cell_type": "markdown",
   "source": [
    "Sprawdzenie dla funkcji dzeta:"
   ],
   "metadata": {
    "collapsed": false,
    "pycharm": {
     "name": "#%% md\n"
    }
   }
  },
  {
   "cell_type": "code",
   "execution_count": null,
   "outputs": [],
   "source": [
    "check_funcs_for_different_values(dzeta_forward, dzeta_backward)"
   ],
   "metadata": {
    "collapsed": false,
    "pycharm": {
     "name": "#%%\n",
     "is_executing": true
    }
   }
  },
  {
   "cell_type": "markdown",
   "source": [
    "Przyglądając się wynikom, mozna zauważyć, że:\n",
    "* różnica dla sumowania na typach 32 oraz 64 bitowych jest niewielka - liczby różnią się dopiero na ostatnich cyfrach po przecinku\n",
    "* sumowaine w przód i wstecz daje różne wyniki (dzeta generuje liczby coraz mniejsze zaś eta coraz większe)\n",
    "* zdecydowanie wieksze różnice występują porównując taki sam typ float dla sumowania wstecz i w przód niż w przypadku różnych typów float i jednej strategii sumowania"
   ],
   "metadata": {
    "collapsed": false,
    "pycharm": {
     "name": "#%% md\n"
    }
   }
  },
  {
   "cell_type": "markdown",
   "source": [
    "## 4. Odwzorowanie logistyczne"
   ],
   "metadata": {
    "collapsed": false,
    "pycharm": {
     "name": "#%% md\n"
    }
   }
  },
  {
   "cell_type": "markdown",
   "source": [
    "### 4.1. Diagramy bifurkacyjne"
   ],
   "metadata": {
    "collapsed": false
   }
  },
  {
   "cell_type": "code",
   "execution_count": null,
   "outputs": [],
   "source": [
    "def logistic_equation(x, r, float_type):\n",
    "    \"\"\"Return x_(n+1)\"\"\"\n",
    "    return r * x * float_type(1 - x)"
   ],
   "metadata": {
    "collapsed": false,
    "pycharm": {
     "name": "#%%\n",
     "is_executing": true
    }
   }
  },
  {
   "cell_type": "code",
   "execution_count": null,
   "outputs": [],
   "source": [
    "def bifurcation_diagram(x0, minimal_r=1, maximal_r=4, float_type=float32):\n",
    "    R, X = _get_tables_for_bifurcation(x0, minimal_r=minimal_r, maximal_r=maximal_r, float_type=float_type)\n",
    "\n",
    "    plt.plot(R, X, marker='.', ls='', markersize=1)\n",
    "    plt.xlabel('R axis')\n",
    "    plt.ylabel('X axis')\n",
    "    plt.title(f\"Bifurcation diagram for: x0 = {x0}, float = {float_type.__name__}\")\n",
    "\n",
    "    plt.show()\n",
    "\n",
    "\n",
    "def _get_tables_for_bifurcation(x0, minimal_r=1, maximal_r=4, float_type=float32, r_len=10**3):\n",
    "    X = []\n",
    "    R = []\n",
    "    r_values = linspace(minimal_r, maximal_r, r_len, dtype=float_type)\n",
    "\n",
    "    for r in r_values:\n",
    "        x = float_type(x0)\n",
    "\n",
    "        # skipping some first results\n",
    "        for i in range(100):\n",
    "            x = logistic_equation(x,r, float_type=float_type)\n",
    "\n",
    "        # Now it's time for values for plot\n",
    "        for i in range(5):\n",
    "            x = logistic_equation(x,r, float_type=float_type)\n",
    "            X.append(x)\n",
    "            R.append(r)\n",
    "\n",
    "    return R,X\n"
   ],
   "metadata": {
    "collapsed": false,
    "pycharm": {
     "name": "#%%\n",
     "is_executing": true
    }
   }
  },
  {
   "cell_type": "code",
   "execution_count": null,
   "outputs": [],
   "source": [
    "bifurcation_diagram(0.1)\n",
    "bifurcation_diagram(0.5)\n",
    "bifurcation_diagram(0.9)"
   ],
   "metadata": {
    "collapsed": false,
    "pycharm": {
     "name": "#%%\n",
     "is_executing": true
    }
   }
  },
  {
   "cell_type": "markdown",
   "source": [
    "Diagramy bifurkacyjne pokazały, że są niezależne od wartości początkowej x0 - są praktycznie identyczne"
   ],
   "metadata": {
    "collapsed": false,
    "pycharm": {
     "name": "#%% md\n"
    }
   }
  },
  {
   "cell_type": "markdown",
   "source": [
    "### 4.2. Trajektorie"
   ],
   "metadata": {
    "collapsed": false
   }
  },
  {
   "cell_type": "code",
   "source": [
    "def _get_table_for_trajectories(x0, r, iterations, float_type=float32):\n",
    "    x, r = float_type(x0), float_type(r)\n",
    "    result = [x]\n",
    "    for _ in range(iterations):\n",
    "        x = logistic_equation(x,r,float_type)\n",
    "        result.append(x)\n",
    "\n",
    "    return result\n",
    "\n",
    "def trajectories(x0, r, iterations = 60):\n",
    "    N = list(range(iterations+1))\n",
    "    floats32 = _get_table_for_trajectories(x0, r, iterations)\n",
    "    floats64 = _get_table_for_trajectories(x0, r, iterations, float_type=float64)\n",
    "\n",
    "    plt.plot(N, floats32)\n",
    "    plt.plot(N, floats64)\n",
    "    plt.legend(['Float32', 'Float64'], bbox_to_anchor=(1.02, 1), loc='upper left', borderaxespad=0)\n",
    "    plt.xlabel('Iterations')\n",
    "    plt.ylabel('X axis')\n",
    "    plt.title(f\"Trajectories for x0 = {x0}, r = {r}\")\n",
    "    plt.show()"
   ],
   "metadata": {
    "collapsed": false,
    "pycharm": {
     "name": "#%%\n",
     "is_executing": true
    }
   },
   "execution_count": null,
   "outputs": []
  },
  {
   "cell_type": "code",
   "execution_count": null,
   "outputs": [],
   "source": [
    "trajectories(0.1, 3.75)\n",
    "trajectories(0.5, 3.78)\n",
    "trajectories(0.9, 3.79)"
   ],
   "metadata": {
    "collapsed": false,
    "pycharm": {
     "name": "#%%\n",
     "is_executing": true
    }
   }
  },
  {
   "cell_type": "markdown",
   "source": [
    "Trajektorie stworzone zostały dla pierwszych 60 iteracji odwzorowania logistycznego. Początkowo nie ma widocznej róznicy pomiędzy obliczeniami na liczbach pojedyńczej i podwójnej precyzja. W pewnym momencie (zależne od x0 i r) znaczenie przybiera uzyta precyzja - wyniki zaczynają się widocznie różnić."
   ],
   "metadata": {
    "collapsed": false
   }
  },
  {
   "cell_type": "markdown",
   "source": [
    "### 4.3. Liczba iteracji potrzebna do osiągnięcia 0 przy r = 4"
   ],
   "metadata": {
    "collapsed": false
   }
  },
  {
   "cell_type": "code",
   "execution_count": null,
   "outputs": [],
   "source": [
    "def get_iters_to_zero(x, r=float32(4), epsilon=10**(-7), max_iter=5000):\n",
    "    result = 0\n",
    "    while x > epsilon:\n",
    "        if result > max_iter:\n",
    "            return -1\n",
    "        x = logistic_equation(x,r, float32)\n",
    "        result+=1\n",
    "\n",
    "    return result\n",
    "\n",
    "\n",
    "def iterations_to_zero():\n",
    "    x_range = arange(0.001, 0.999, 0.001, dtype=float32)\n",
    "\n",
    "    not_coverages = 0\n",
    "    X, I =list(),list()\n",
    "    for x in x_range:\n",
    "        i = get_iters_to_zero(x)\n",
    "        if i != -1:\n",
    "            X.append(x)\n",
    "            I.append(i)\n",
    "        else:\n",
    "            not_coverages += 1\n",
    "\n",
    "\n",
    "    plt.plot(X, I, marker='.', ls='', markersize=2)\n",
    "    plt.xlabel('x0')\n",
    "    plt.ylabel('Iterations')\n",
    "    plt.title(\"Amount of iterations need to get 0 from x\")\n",
    "\n",
    "    plt.show()\n",
    "\n",
    "    print(f\"Number of points for which couldn't reach 0: {not_coverages}\")\n",
    "    print(f\"All checked points: {len(x_range)}\")"
   ],
   "metadata": {
    "collapsed": false,
    "pycharm": {
     "name": "#%%\n",
     "is_executing": true
    }
   }
  },
  {
   "cell_type": "code",
   "execution_count": null,
   "outputs": [],
   "source": [
    "iterations_to_zero()"
   ],
   "metadata": {
    "collapsed": false,
    "pycharm": {
     "name": "#%%\n",
     "is_executing": true
    }
   }
  },
  {
   "cell_type": "markdown",
   "source": [
    "Dla sprawdzenia zbieżności do 0, ustawiony został epsilon równy 10<sup>-7</sup> oraz maksymalna liczba iteracji równa 5000. Początkowo program sprawdzał 10<sup>6</sup> iteracji, jednak nigdy nie doszło do przypadku w którym liczba iteracji była wieksza niż 3000, zatem została zmniejszona (nie pomogło użycie wątków a także biblioteki ray w celu optymalizacji czasu wykonania dla większej ilości iteracji).\n",
    "\n",
    "Algorytm zajmuje aktulanie około 24 sekundy. Jest to spowodowane użyciem pojedyńczej precyzji, która znacząco wydłuża czas w porównaniu z podwójną precyzją. Warto tutaj zaznaczyć, że należało użyć pojedyńczej precyzji w każdej liczbie z odwzorowania logistycznego - w przeciwnym razie otrzymywalibyśmy podwójną precyzję.\n",
    "\n",
    "Warto zaznaczyć, że dla 82% punktów początkowych nie udało się otrzymać 0 (nie zostały one uwzględnione  na wykresie). Pozostałe punkty tworzą rozproszny rozkład - nie da się w żaden sposób ustalić, ile iteracji potrzeba do osiągnięcia 0 przy danym x<sub>0</sub>"
   ],
   "metadata": {
    "collapsed": false,
    "pycharm": {
     "name": "#%% md\n"
    }
   }
  }
 ],
 "metadata": {
  "kernelspec": {
   "display_name": "Python 3",
   "language": "python",
   "name": "python3"
  },
  "language_info": {
   "codemirror_mode": {
    "name": "ipython",
    "version": 2
   },
   "file_extension": ".py",
   "mimetype": "text/x-python",
   "name": "python",
   "nbconvert_exporter": "python",
   "pygments_lexer": "ipython2",
   "version": "2.7.6"
  }
 },
 "nbformat": 4,
 "nbformat_minor": 0
}
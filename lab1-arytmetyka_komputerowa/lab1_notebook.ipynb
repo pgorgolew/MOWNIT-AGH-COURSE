{
 "cells": [
  {
   "cell_type": "code",
   "source": [
    "#### Paweł Gorgolewski"
   ],
   "metadata": {
    "collapsed": false,
    "pycharm": {
     "name": "#%%\n"
    }
   },
   "execution_count": 3,
   "outputs": []
  },
  {
   "cell_type": "code",
   "execution_count": 4,
   "outputs": [],
   "source": [
    "from numpy import float32, float64, linspace, arange, full\n",
    "import matplotlib.pyplot as plt\n",
    "import time"
   ],
   "metadata": {
    "collapsed": false,
    "pycharm": {
     "name": "#%%\n"
    }
   }
  },
  {
   "cell_type": "code",
   "execution_count": 5,
   "outputs": [],
   "source": [
    "v = 0.53125\n",
    "N = 10 ** 7\n",
    "numbers = [float32(v) for _ in range(N)]\n",
    "precise_sum = N*v"
   ],
   "metadata": {
    "collapsed": false,
    "pycharm": {
     "name": "#%%\n"
    }
   }
  },
  {
   "cell_type": "code",
   "execution_count": 6,
   "outputs": [
    {
     "name": "stdout",
     "output_type": "stream",
     "text": [
      "Iterative sum is 5030840.5\n",
      "Precise sum is 5312500.0\n"
     ]
    }
   ],
   "source": [
    "def iterative_sum(numbers):\n",
    "    result = float32(0.0)\n",
    "    for num in numbers:\n",
    "        result += num\n",
    "\n",
    "    return result\n",
    "\n",
    "iterative = iterative_sum(numbers)\n",
    "\n",
    "print(f\"Iterative sum is {iterative}\")\n",
    "print(f\"Precise sum is {precise_sum}\")"
   ],
   "metadata": {
    "collapsed": false,
    "pycharm": {
     "name": "#%%\n"
    }
   }
  },
  {
   "cell_type": "markdown",
   "source": [
    "### PUNKT 2 SPRAWDZANIE ERRORS"
   ],
   "metadata": {
    "collapsed": false
   }
  },
  {
   "cell_type": "code",
   "execution_count": 7,
   "outputs": [],
   "source": [
    "def absolute_error(counted, precise):\n",
    "    return abs(precise - counted)\n",
    "\n",
    "def relative_error(counted, precise):\n",
    "    return absolute_error(counted, precise) / precise"
   ],
   "metadata": {
    "collapsed": false,
    "pycharm": {
     "name": "#%%\n"
    }
   }
  },
  {
   "cell_type": "code",
   "execution_count": 8,
   "outputs": [
    {
     "name": "stdout",
     "output_type": "stream",
     "text": [
      "Absolute error of iterative sum: 281659.5\n",
      "Relative error of iterative sum: 0.05301825882352941\n"
     ]
    }
   ],
   "source": [
    "print(f\"Absolute error of iterative sum: {absolute_error(iterative, precise_sum)}\")\n",
    "print(f\"Relative error of iterative sum: {relative_error(iterative, precise_sum)}\")"
   ],
   "metadata": {
    "collapsed": false,
    "pycharm": {
     "name": "#%%\n"
    }
   }
  },
  {
   "cell_type": "markdown",
   "source": [
    "#### TODO KOMENTARZ DO TEGO"
   ],
   "metadata": {
    "collapsed": false
   }
  },
  {
   "cell_type": "markdown",
   "source": [
    "##### PKT 3 -> wykres"
   ],
   "metadata": {
    "collapsed": false
   }
  },
  {
   "cell_type": "code",
   "execution_count": 9,
   "outputs": [],
   "source": [
    "def relative_error_over_time_plot(numbers, step=25000):\n",
    "    relative_error_in_steps = [float32(0.0)]\n",
    "    result = float32(0.0)\n",
    "    for i in range(len(numbers)):\n",
    "        result += numbers[i]\n",
    "        if (i + 1) % step == 0:\n",
    "            tmp_error = relative_error(result, v*(i+1))\n",
    "            relative_error_in_steps.append(tmp_error)\n",
    "\n",
    "    steps = [x * step for x in range(0, N // step + 1)]\n",
    "    plt.plot(steps, relative_error_in_steps)\n",
    "    plt.xlabel('STEPS')\n",
    "    plt.ylabel('ERROR')\n",
    "    plt.title(\"Relative error over iterations\")\n",
    "    plt.show()"
   ],
   "metadata": {
    "collapsed": false,
    "pycharm": {
     "name": "#%%\n"
    }
   }
  },
  {
   "cell_type": "code",
   "execution_count": 10,
   "outputs": [
    {
     "data": {
      "text/plain": "<Figure size 432x288 with 1 Axes>",
      "image/png": "[encoded data removed]"
     },
     "metadata": {
      "needs_background": "light"
     },
     "output_type": "display_data"
    }
   ],
   "source": [
    "relative_error_over_time_plot(numbers)"
   ],
   "metadata": {
    "collapsed": false,
    "pycharm": {
     "name": "#%%\n"
    }
   }
  },
  {
   "cell_type": "markdown",
   "source": [
    "### KOMENATRZ DO WYKRESU"
   ],
   "metadata": {
    "collapsed": false
   }
  },
  {
   "cell_type": "markdown",
   "source": [
    "### PKT 4 recoursive sum"
   ],
   "metadata": {
    "collapsed": false
   }
  },
  {
   "cell_type": "code",
   "execution_count": 11,
   "outputs": [
    {
     "name": "stdout",
     "output_type": "stream",
     "text": [
      "Recursive sum is 5312500.0\n",
      "Precise sum is 5312500.0\n"
     ]
    }
   ],
   "source": [
    "def recursive_sum(numbers):\n",
    "    if len(numbers) > 2:\n",
    "        return recursive_sum(numbers[:len(numbers) // 2]) + recursive_sum(numbers[len(numbers) // 2:])\n",
    "    else:\n",
    "        return numbers[0] if len(numbers) == 1 else numbers[0] + numbers[1]\n",
    "\n",
    "recursive = recursive_sum(numbers)\n",
    "\n",
    "print(f\"Recursive sum is {recursive}\")\n",
    "print(f\"Precise sum is {precise_sum}\")"
   ],
   "metadata": {
    "collapsed": false,
    "pycharm": {
     "name": "#%%\n"
    }
   }
  },
  {
   "cell_type": "markdown",
   "source": [
    "#### PKT 5 -> wzgl i bezwgl blad recursive"
   ],
   "metadata": {
    "collapsed": false
   }
  },
  {
   "cell_type": "code",
   "execution_count": 12,
   "outputs": [
    {
     "name": "stdout",
     "output_type": "stream",
     "text": [
      "Absolute error of recursive sum: 0.0\n",
      "Relative error of recursive sum: 0.0\n"
     ]
    }
   ],
   "source": [
    "print(f\"Absolute error of recursive sum: {absolute_error(recursive, precise_sum)}\")\n",
    "print(f\"Relative error of recursive sum: {relative_error(recursive, precise_sum)}\")"
   ],
   "metadata": {
    "collapsed": false,
    "pycharm": {
     "name": "#%%\n"
    }
   }
  },
  {
   "cell_type": "markdown",
   "source": [
    "### komentarz do tego"
   ],
   "metadata": {
    "collapsed": false
   }
  },
  {
   "cell_type": "markdown",
   "source": [
    "### pkt 6 -> sprw czas dla recursive i iterative"
   ],
   "metadata": {
    "collapsed": false
   }
  },
  {
   "cell_type": "code",
   "execution_count": 13,
   "outputs": [
    {
     "name": "stdout",
     "output_type": "stream",
     "text": [
      "Iterative sum takes 1.4217748641967773 seconds\n",
      "Recursive sum takes 7.557807445526123 seconds\n"
     ]
    }
   ],
   "source": [
    "iterative_start = time.time()\n",
    "iterative_sum(numbers)\n",
    "iterative_time = time.time() - iterative_start\n",
    "\n",
    "recursive_start = time.time()\n",
    "recursive_sum(numbers)\n",
    "recursive_time = time.time() - recursive_start\n",
    "\n",
    "print(f\"Iterative sum takes {iterative_time} seconds\")\n",
    "print(f\"Recursive sum takes {recursive_time} seconds\")"
   ],
   "metadata": {
    "collapsed": false,
    "pycharm": {
     "name": "#%%\n"
    }
   }
  },
  {
   "cell_type": "markdown",
   "source": [
    "### PKT 7"
   ],
   "metadata": {
    "collapsed": false
   }
  },
  {
   "cell_type": "code",
   "execution_count": 14,
   "outputs": [
    {
     "name": "stdout",
     "output_type": "stream",
     "text": [
      "Recursive sum is 8111101.0\n",
      "Precise sum is 8111100.0\n",
      "Absolute error is: 1.0\n",
      "Relative error is: 1.2328784012032893e-07\n"
     ]
    }
   ],
   "source": [
    "difficult_example = [float32(0.81111) for _ in range(N)]\n",
    "recursive = recursive_sum(difficult_example)\n",
    "precise_sum = 0.81111*N\n",
    "\n",
    "print(f\"Recursive sum is {recursive}\")\n",
    "print(f\"Precise sum is {precise_sum}\")\n",
    "print(f\"Absolute error is: {absolute_error(recursive, precise_sum)}\")\n",
    "print(f\"Relative error is: {relative_error(recursive, precise_sum)}\")"
   ],
   "metadata": {
    "collapsed": false,
    "pycharm": {
     "name": "#%%\n"
    }
   }
  },
  {
   "cell_type": "markdown",
   "source": [
    "#### JAKIS KOMENTARZ"
   ],
   "metadata": {
    "collapsed": false
   }
  },
  {
   "cell_type": "markdown",
   "source": [
    "# ZAD 2 pkt A"
   ],
   "metadata": {
    "collapsed": false
   }
  },
  {
   "cell_type": "code",
   "execution_count": 15,
   "outputs": [],
   "source": [
    "def kahan_sum(numbers):\n",
    "    result = float32(0)\n",
    "    err = float32(0)\n",
    "    for num in numbers:\n",
    "        y = num - err\n",
    "        temp = result + y\n",
    "        err = (temp - result) - y\n",
    "        result = temp\n",
    "\n",
    "    result = result - err\n",
    "    return result"
   ],
   "metadata": {
    "collapsed": false,
    "pycharm": {
     "name": "#%%\n"
    }
   }
  },
  {
   "cell_type": "code",
   "execution_count": 16,
   "outputs": [
    {
     "name": "stdout",
     "output_type": "stream",
     "text": [
      "Kahan sum is 8111100.0\n",
      "Precise sum is 8111100.0\n",
      "Absolute error is: 0.0\n",
      "Relative error is: 0.0\n"
     ]
    }
   ],
   "source": [
    "kahan = kahan_sum(difficult_example)\n",
    "\n",
    "print(f\"Kahan sum is {kahan}\")\n",
    "print(f\"Precise sum is {precise_sum}\")\n",
    "print(f\"Absolute error is: {absolute_error(kahan, precise_sum)}\")\n",
    "print(f\"Relative error is: {relative_error(kahan, precise_sum)}\")"
   ],
   "metadata": {
    "collapsed": false,
    "pycharm": {
     "name": "#%%\n"
    }
   }
  },
  {
   "cell_type": "markdown",
   "source": [
    "##KOMENATRZ"
   ],
   "metadata": {
    "collapsed": false
   }
  },
  {
   "cell_type": "markdown",
   "source": [
    "## PKT 2 ODP"
   ],
   "metadata": {
    "collapsed": false
   }
  },
  {
   "cell_type": "markdown",
   "source": [
    "## PKT 3"
   ],
   "metadata": {
    "collapsed": false
   }
  },
  {
   "cell_type": "code",
   "execution_count": 17,
   "outputs": [
    {
     "name": "stdout",
     "output_type": "stream",
     "text": [
      "Recursive sum takes 7.853030443191528 seconds\n",
      "Kahan sum takes 7.227712392807007 seconds\n"
     ]
    }
   ],
   "source": [
    "recursive_start = time.time()\n",
    "recursive_sum(difficult_example)\n",
    "recursive_time = time.time() - recursive_start\n",
    "\n",
    "kahan_start = time.time()\n",
    "kahan_sum(difficult_example)\n",
    "kahan_time = time.time() - kahan_start\n",
    "\n",
    "print(f\"Recursive sum takes {recursive_time} seconds\")\n",
    "print(f\"Kahan sum takes {kahan_time} seconds\")"
   ],
   "metadata": {
    "collapsed": false,
    "pycharm": {
     "name": "#%%\n"
    }
   }
  },
  {
   "cell_type": "markdown",
   "source": [
    "## JAKIS KOMENTARZ"
   ],
   "metadata": {
    "collapsed": false
   }
  },
  {
   "cell_type": "markdown",
   "source": [
    "# ZAD 3"
   ],
   "metadata": {
    "collapsed": false
   }
  },
  {
   "cell_type": "code",
   "execution_count": 18,
   "outputs": [],
   "source": [
    "def dzeta_forward(n, s, float_type=float32):\n",
    "    \"\"\"Dzeta forward\"\"\"\n",
    "    result = float_type(0.0)\n",
    "    for k in range(1, n+1):\n",
    "        result += float_type(1 / float_type(k**s))\n",
    "    return result\n",
    "\n",
    "\n",
    "def dzeta_backward(n, s, float_type=float32):\n",
    "    \"\"\"Dzeta backward\"\"\"\n",
    "    result = float_type(0.0)\n",
    "    for k in range(n, 0, -1):\n",
    "        result += float_type(1 / float_type(k**s))\n",
    "    return result\n",
    "\n",
    "\n",
    "def eta_forward(n, s, float_type=float32):\n",
    "    \"\"\"Eta forward\"\"\"\n",
    "    result = float_type(0.0)\n",
    "    for k in range(1, n+1):\n",
    "        result += float_type(float_type((-1) ** float_type(k - 1)) / float_type(k**s))\n",
    "    return result\n",
    "\n",
    "\n",
    "def eta_backward(n, s, float_type=float32):\n",
    "    \"\"\"Eta backward\"\"\"\n",
    "    result = float_type(0.0)\n",
    "    for k in range(n, 0, -1):\n",
    "        result += float_type(float_type((-1) ** float_type(k - 1)) / float_type(k**s))\n",
    "\n",
    "    return result"
   ],
   "metadata": {
    "collapsed": false,
    "pycharm": {
     "name": "#%%\n"
    }
   }
  },
  {
   "cell_type": "code",
   "execution_count": 19,
   "outputs": [
    {
     "name": "stdout",
     "output_type": "stream",
     "text": [
      "eta_backward\n"
     ]
    }
   ],
   "source": [
    "print(eta_backward.__doc__)"
   ],
   "metadata": {
    "collapsed": false,
    "pycharm": {
     "name": "#%%\n"
    }
   }
  },
  {
   "cell_type": "code",
   "execution_count": 27,
   "outputs": [],
   "source": [
    "def check_funcs_for_different_values(forward_func, backward_func):\n",
    "    N = [50, 100, 200, 500, 1000]\n",
    "    S = [2, 3.6667, 5, 7.2, 10]\n",
    "\n",
    "    for i in range(len(N)):\n",
    "        n = N[i]\n",
    "        s = S[i]\n",
    "\n",
    "        float32_result_forward = forward_func(n,s)\n",
    "        float64_result_forward = forward_func(n,s, float64)\n",
    "\n",
    "        float32_result_backward = backward_func(n,s)\n",
    "        float64_result_backward = backward_func(n,s, float64)\n",
    "\n",
    "        float_diff_forward = abs(float32_result_forward-float64_result_forward)\n",
    "        float_diff_backward = abs(float32_result_backward-float64_result_backward)\n",
    "\n",
    "        front_back_32_diff = abs(float32_result_backward-float32_result_forward)\n",
    "        front_back_64_diff = abs(float64_result_backward-float64_result_forward)\n",
    "\n",
    "\n",
    "        print(f\"n = {n}, s = {s}\")\n",
    "        print(f\"{forward_func.__doc__} float32: {float32_result_forward}, {backward_func.__doc__} float32: {float32_result_backward}\")\n",
    "        print(f\"{forward_func.__doc__} float64: {float64_result_forward}, {backward_func.__doc__} float64: {float64_result_backward}\")\n",
    "\n",
    "        print(f\"(float32 and float64 difference) Forward: {float_diff_forward}, Backward: {float_diff_backward}\")\n",
    "        print(f\"(forward and backward difference) float32: {front_back_32_diff}, float64: {front_back_64_diff}\\n\")"
   ],
   "metadata": {
    "collapsed": false,
    "pycharm": {
     "name": "#%%\n"
    }
   }
  },
  {
   "cell_type": "code",
   "execution_count": 28,
   "outputs": [
    {
     "name": "stdout",
     "output_type": "stream",
     "text": [
      "n = 50, s = 2\n",
      "Eta forward float32: 0.8222709894180298, Eta backward float32: 0.8222710490226746\n",
      "Eta forward float64: 0.8222710318260295, Eta backward float64: 0.8222710318260289\n",
      "(float32 and float64 difference) Forward: 4.240799966748199e-08, Backward: 1.719664566302015e-08\n",
      "(forward and backward difference) float32: 5.960464477539063e-08, float64: 5.551115123125783e-16\n",
      "\n",
      "n = 100, s = 3.6667\n",
      "Eta forward float32: 0.9346932768821716, Eta backward float32: 0.9346933364868164\n",
      "Eta forward float64: 0.9346933211400662, Eta backward float64: 0.934693321140067\n",
      "(float32 and float64 difference) Forward: 4.425789457140894e-08, Backward: 1.5346749426825568e-08\n",
      "(forward and backward difference) float32: 5.960464477539063e-08, float64: 7.771561172376096e-16\n",
      "\n",
      "n = 200, s = 5\n",
      "Eta forward float32: 0.9721198081970215, Eta backward float32: 0.9721197485923767\n",
      "Eta forward float64: 0.972119770445367, Eta backward float64: 0.9721197704453663\n",
      "(float32 and float64 difference) Forward: 3.775165446917583e-08, Backward: 2.1852989640080978e-08\n",
      "(forward and backward difference) float32: 5.960464477539063e-08, float64: 6.661338147750939e-16\n",
      "\n",
      "n = 500, s = 7.2\n",
      "Eta forward float32: 0.9935270547866821, Eta backward float32: 0.9935269951820374\n",
      "Eta forward float64: 0.9935270006616201, Eta backward float64: 0.9935270006616198\n",
      "(float32 and float64 difference) Forward: 5.4125061987875256e-08, Backward: 5.479582454448462e-09\n",
      "(forward and backward difference) float32: 5.960464477539063e-08, float64: 3.3306690738754696e-16\n",
      "\n",
      "n = 1000, s = 10\n",
      "Eta forward float32: 0.9990395307540894, Eta backward float32: 0.9990395307540894\n",
      "Eta forward float64: 0.9990395075982718, Eta backward float64: 0.9990395075982715\n",
      "(float32 and float64 difference) Forward: 2.3155817596709483e-08, Backward: 2.3155817818754088e-08\n",
      "(forward and backward difference) float32: 0.0, float64: 2.220446049250313e-16\n",
      "\n"
     ]
    }
   ],
   "source": [
    "check_funcs_for_different_values(eta_forward, eta_backward) #eta check"
   ],
   "metadata": {
    "collapsed": false,
    "pycharm": {
     "name": "#%%\n"
    }
   }
  },
  {
   "cell_type": "code",
   "execution_count": 29,
   "outputs": [
    {
     "name": "stdout",
     "output_type": "stream",
     "text": [
      "n = 50, s = 2\n",
      "Dzeta forward float32: 1.6251329183578491, Dzeta backward float32: 1.62513267993927\n",
      "Dzeta forward float64: 1.625132733621529, Dzeta backward float64: 1.6251327336215293\n",
      "(float32 and float64 difference) Forward: 1.8473632001914098e-07, Backward: 5.368225930446613e-08\n",
      "(forward and backward difference) float32: 2.384185791015625e-07, float64: 2.220446049250313e-16\n",
      "\n",
      "n = 100, s = 3.6667\n",
      "Dzeta forward float32: 1.1094086170196533, Dzeta backward float32: 1.1094088554382324\n",
      "Dzeta forward float64: 1.1094087973421474, Dzeta backward float64: 1.1094087973421476\n",
      "(float32 and float64 difference) Forward: 1.8032249404775769e-07, Backward: 5.809608483176021e-08\n",
      "(forward and backward difference) float32: 2.384185791015625e-07, float64: 2.220446049250313e-16\n",
      "\n",
      "n = 200, s = 5\n",
      "Dzeta forward float32: 1.0369274616241455, Dzeta backward float32: 1.0369277000427246\n",
      "Dzeta forward float64: 1.0369277549886775, Dzeta backward float64: 1.036927754988676\n",
      "(float32 and float64 difference) Forward: 2.933645320002398e-07, Backward: 5.4945951344365085e-08\n",
      "(forward and backward difference) float32: 2.384185791015625e-07, float64: 1.5543122344752192e-15\n",
      "\n",
      "n = 500, s = 7.2\n",
      "Dzeta forward float32: 1.0072276592254639, Dzeta backward float32: 1.0072276592254639\n",
      "Dzeta forward float64: 1.0072276664807145, Dzeta backward float64: 1.0072276664807172\n",
      "(float32 and float64 difference) Forward: 7.255250622506537e-09, Backward: 7.255253287041796e-09\n",
      "(forward and backward difference) float32: 0.0, float64: 2.6645352591003757e-15\n",
      "\n",
      "n = 1000, s = 10\n",
      "Dzeta forward float32: 1.0009945631027222, Dzeta backward float32: 1.0009945631027222\n",
      "Dzeta forward float64: 1.0009945751278182, Dzeta backward float64: 1.000994575127818\n",
      "(float32 and float64 difference) Forward: 1.202509603004387e-08, Backward: 1.2025095807999264e-08\n",
      "(forward and backward difference) float32: 0.0, float64: 2.220446049250313e-16\n",
      "\n"
     ]
    }
   ],
   "source": [
    "check_funcs_for_different_values(dzeta_forward, dzeta_backward) #dzeta check"
   ],
   "metadata": {
    "collapsed": false,
    "pycharm": {
     "name": "#%%\n"
    }
   }
  },
  {
   "cell_type": "markdown",
   "source": [
    "# KOMENATRZ"
   ],
   "metadata": {
    "collapsed": false,
    "pycharm": {
     "name": "#%% md\n"
    }
   }
  },
  {
   "cell_type": "code",
   "execution_count": null,
   "outputs": [],
   "source": [],
   "metadata": {
    "collapsed": false,
    "pycharm": {
     "name": "#%%\n"
    }
   }
  }
 ],
 "metadata": {
  "kernelspec": {
   "display_name": "Python 3",
   "language": "python",
   "name": "python3"
  },
  "language_info": {
   "codemirror_mode": {
    "name": "ipython",
    "version": 2
   },
   "file_extension": ".py",
   "mimetype": "text/x-python",
   "name": "python",
   "nbconvert_exporter": "python",
   "pygments_lexer": "ipython2",
   "version": "2.7.6"
  }
 },
 "nbformat": 4,
 "nbformat_minor": 0
}
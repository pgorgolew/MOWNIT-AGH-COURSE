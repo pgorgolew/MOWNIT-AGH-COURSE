{
 "cells": [
  {
   "cell_type": "markdown",
   "source": [
    "# Metody Obliczeniowe w Nauce i Technice Laboratorium 2\n",
    "## Rozwiazywanie układów równan liniowych\n",
    "### Paweł Gorgolewski"
   ],
   "metadata": {
    "collapsed": false,
    "pycharm": {
     "name": "#%% md\n"
    }
   }
  },
  {
   "cell_type": "markdown",
   "source": [
    "## 1. Metoda Gaussa-Jordana"
   ],
   "metadata": {
    "collapsed": false
   }
  },
  {
   "cell_type": "code",
   "execution_count": 22,
   "metadata": {
    "collapsed": true
   },
   "outputs": [],
   "source": [
    "import numpy as np\n",
    "import random\n",
    "import matplotlib.pyplot as plt\n",
    "import time"
   ]
  },
  {
   "cell_type": "code",
   "execution_count": 23,
   "outputs": [],
   "source": [
    "def full_pivoting(A: np.array, B: np.array, row_id: int, curr_col_order: list):\n",
    "    max_row_id, max_col_id = row_id, row_id\n",
    "    for r in range(row_id, A.shape[0]):\n",
    "        for c in range(row_id, A.shape[1]):\n",
    "            if abs(A[r, c]) > abs(A[max_row_id, max_col_id]):\n",
    "                max_row_id, max_col_id = r, c\n",
    "\n",
    "    if max_row_id != row_id:\n",
    "        #lets, change rows\n",
    "        copyA, copyB = np.copy(A[row_id]), np.copy(B[row_id])\n",
    "        A[row_id], B[row_id] = A[max_row_id], B[max_row_id]\n",
    "        A[max_row_id], B[max_row_id] = copyA, copyB\n",
    "\n",
    "    if max_col_id != row_id:\n",
    "        #lets change cols\n",
    "        copy_col_with_max = np.copy(A[:, max_col_id])\n",
    "        A[:, max_col_id] = A[:, row_id]\n",
    "        A[:, row_id] = copy_col_with_max\n",
    "\n",
    "    #scaling\n",
    "    scaling_val = A[row_id, row_id]\n",
    "    A[row_id] /= scaling_val\n",
    "    B[row_id] /= scaling_val\n",
    "\n",
    "    curr_col_order[row_id], curr_col_order[max_col_id] = curr_col_order[max_col_id], curr_col_order[row_id]\n",
    "\n",
    "def gauss_jordan_full_pivoting(A: np.array, B: np.array):\n",
    "    n = A.shape[0]\n",
    "    if n < A.shape[1]:\n",
    "        print(\"Too many unknows\")\n",
    "        return None\n",
    "\n",
    "    A_copy, B_copy = np.copy(A), np.copy(B)\n",
    "    curr_col_order = [i for i in range(A_copy.shape[1])]\n",
    "    for i in range(n):\n",
    "        full_pivoting(A_copy, B_copy, i, curr_col_order) #Reshape A i B to get the piwot at the top\n",
    "\n",
    "        pivot = A_copy[i,i]\n",
    "\n",
    "        for j in range(i+1, n):\n",
    "            #lets go w dół\n",
    "            m = A_copy[j,i]/pivot\n",
    "            A_copy[j] = np.subtract(A_copy[j], A_copy[i]*m)\n",
    "            B_copy[j] = B_copy[j] - B_copy[i] * m\n",
    "\n",
    "        for z in range(0, i):\n",
    "            #lets go w górę\n",
    "            m = A_copy[z,i]/pivot\n",
    "            A_copy[z] = np.subtract(A_copy[z], A_copy[i]*m)\n",
    "            B_copy[z] = B_copy[z] - B_copy[i] * m\n",
    "\n",
    "    for i in range(n):\n",
    "        B_copy[i] = B_copy[i]/A_copy[i,i]\n",
    "\n",
    "    #Now we have results in B but without a proper order\n",
    "    result = np.copy(B_copy)\n",
    "    for i in range(A_copy.shape[1]):\n",
    "        if curr_col_order[i] == i:\n",
    "            continue\n",
    "\n",
    "        curr_pos = curr_col_order[i]\n",
    "        result[curr_pos] = B_copy[i]\n",
    "\n",
    "    return result"
   ],
   "metadata": {
    "collapsed": false,
    "pycharm": {
     "name": "#%%\n"
    }
   }
  },
  {
   "cell_type": "code",
   "execution_count": 24,
   "outputs": [],
   "source": [
    "def partial_piwoting(A: np.array, B: np.array, row_id: int):\n",
    "    max_row_id = row_id\n",
    "    for i in range(row_id+1, A.shape[0]):\n",
    "        if abs(A[i, row_id]) > abs(A[max_row_id, row_id]):\n",
    "            max_row_id = i\n",
    "\n",
    "    copyA, copyB = np.copy(A[row_id]), np.copy(B[row_id])\n",
    "    A[row_id], B[row_id] = A[max_row_id], B[max_row_id]\n",
    "    A[max_row_id], B[max_row_id] = copyA, copyB\n",
    "\n",
    "    #scaling\n",
    "    scaling_val = A[row_id, row_id]\n",
    "    A[row_id] /= scaling_val\n",
    "    B[row_id] /= scaling_val\n",
    "\n",
    "    return A,B\n",
    "\n",
    "def gauss_jordan(A: np.array, B: np.array):\n",
    "    n = A.shape[0]\n",
    "    A_copy, B_copy = np.copy(A), np.copy(B)\n",
    "\n",
    "    if n < A_copy.shape[1]:\n",
    "        print(\"Too many unknows\")\n",
    "        return None\n",
    "\n",
    "    for i in range(A.shape[1]):\n",
    "        partial_piwoting(A_copy, B_copy, i) #Reshape A i B to get the piwot at the top\n",
    "        pivot = A_copy[i,i]\n",
    "\n",
    "        for j in range(i+1, n):\n",
    "            #lets go w dół\n",
    "            m = A_copy[j,i]/pivot\n",
    "            A_copy[j] = np.subtract(A_copy[j], A_copy[i]*m)\n",
    "            B_copy[j] = B_copy[j] - B_copy[i] * m\n",
    "\n",
    "        for z in range(0, i):\n",
    "            #lets go w górę\n",
    "            m = A_copy[z,i]/pivot\n",
    "            A_copy[z] = np.subtract(A_copy[z], A_copy[i]*m)\n",
    "            B_copy[z] = B_copy[z] - B_copy[i] * m\n",
    "\n",
    "    for i in range(n):\n",
    "        B_copy[i] = B_copy[i]/A_copy[i,i]\n",
    "\n",
    "    return B_copy"
   ],
   "metadata": {
    "collapsed": false,
    "pycharm": {
     "name": "#%%\n"
    }
   }
  },
  {
   "cell_type": "code",
   "execution_count": 25,
   "outputs": [],
   "source": [
    "def test_gauss_jordan(size: int, with_full=True):\n",
    "    random.seed(10)\n",
    "    matrix = np.random.random((size, size))\n",
    "    results = np.random.random((size, 1))\n",
    "    time_res = dict()\n",
    "\n",
    "    start = time.time()\n",
    "    part = gauss_jordan(matrix, results)\n",
    "    time_res[\"part\"] = time.time() - start\n",
    "\n",
    "    if with_full:\n",
    "        start = time.time()\n",
    "        full = gauss_jordan_full_pivoting(matrix, results)\n",
    "        time_res[\"full\"] = time.time() - start\n",
    "\n",
    "    start = time.time()\n",
    "    res = np.linalg.solve(matrix, results)\n",
    "    time_res[\"numpy\"] = time.time() - start\n",
    "\n",
    "    print(f\"MATRIX SIZE: {size}\")\n",
    "    if with_full:\n",
    "        print(f\"TIMES: partial_pivot: {time_res['part']}, full_pivot: {time_res['full']}, numpy_linalg_solve: {time_res['numpy']}\")\n",
    "        np.testing.assert_allclose(res, full)\n",
    "        print(f\"Full pivoting works fine with size\")\n",
    "    else:\n",
    "        print(f\"TIMES: partial_pivot: {time_res['part']}, numpy_linalg_solve: {time_res['numpy']}\")\n",
    "\n",
    "    np.testing.assert_allclose(part, res)\n",
    "    print(f\"Partial pivoting works fine with size\\n\")\n",
    "\n",
    "    return time_res"
   ],
   "metadata": {
    "collapsed": false,
    "pycharm": {
     "name": "#%%\n"
    }
   }
  },
  {
   "cell_type": "markdown",
   "source": [
    "Sprawdzenie poprawności zarówno dla `partial_pivoting` jak i `full_pivoting`:"
   ],
   "metadata": {
    "collapsed": false
   }
  },
  {
   "cell_type": "code",
   "execution_count": 26,
   "outputs": [
    {
     "name": "stdout",
     "output_type": "stream",
     "text": [
      "MATRIX SIZE: 50\n",
      "TIMES: partial_pivot: 0.021047115325927734, full_pivot: 0.05440044403076172, numpy_linalg_solve: 0.0\n",
      "Full pivoting works fine with size\n",
      "Partial pivoting works fine with size\n",
      "\n",
      "MATRIX SIZE: 75\n",
      "TIMES: partial_pivot: 0.0504305362701416, full_pivot: 0.15654730796813965, numpy_linalg_solve: 0.0\n",
      "Full pivoting works fine with size\n",
      "Partial pivoting works fine with size\n",
      "\n",
      "MATRIX SIZE: 100\n",
      "TIMES: partial_pivot: 0.10125970840454102, full_pivot: 0.371840238571167, numpy_linalg_solve: 0.0\n",
      "Full pivoting works fine with size\n",
      "Partial pivoting works fine with size\n",
      "\n",
      "MATRIX SIZE: 125\n",
      "TIMES: partial_pivot: 0.13008379936218262, full_pivot: 0.6498267650604248, numpy_linalg_solve: 0.0\n",
      "Full pivoting works fine with size\n",
      "Partial pivoting works fine with size\n",
      "\n",
      "MATRIX SIZE: 150\n",
      "TIMES: partial_pivot: 0.18206572532653809, full_pivot: 1.0836126804351807, numpy_linalg_solve: 0.0007028579711914062\n",
      "Full pivoting works fine with size\n",
      "Partial pivoting works fine with size\n",
      "\n",
      "MATRIX SIZE: 175\n",
      "TIMES: partial_pivot: 0.2563910484313965, full_pivot: 1.6775052547454834, numpy_linalg_solve: 0.0009694099426269531\n",
      "Full pivoting works fine with size\n",
      "Partial pivoting works fine with size\n",
      "\n",
      "MATRIX SIZE: 200\n",
      "TIMES: partial_pivot: 0.3321261405944824, full_pivot: 2.398847818374634, numpy_linalg_solve: 0.0002205371856689453\n",
      "Full pivoting works fine with size\n",
      "Partial pivoting works fine with size\n",
      "\n",
      "MATRIX SIZE: 225\n",
      "TIMES: partial_pivot: 0.4401535987854004, full_pivot: 3.2664077281951904, numpy_linalg_solve: 0.0009918212890625\n",
      "Full pivoting works fine with size\n",
      "Partial pivoting works fine with size\n",
      "\n",
      "MATRIX SIZE: 250\n",
      "TIMES: partial_pivot: 0.5087339878082275, full_pivot: 4.211043834686279, numpy_linalg_solve: 0.0010063648223876953\n",
      "Full pivoting works fine with size\n",
      "Partial pivoting works fine with size\n",
      "\n",
      "MATRIX SIZE: 275\n",
      "TIMES: partial_pivot: 0.6697125434875488, full_pivot: 5.717132091522217, numpy_linalg_solve: 0.0007836818695068359\n",
      "Full pivoting works fine with size\n",
      "Partial pivoting works fine with size\n",
      "\n",
      "MATRIX SIZE: 300\n",
      "TIMES: partial_pivot: 0.7971112728118896, full_pivot: 7.288207769393921, numpy_linalg_solve: 0.0009975433349609375\n",
      "Full pivoting works fine with size\n",
      "Partial pivoting works fine with size\n",
      "\n"
     ]
    }
   ],
   "source": [
    "small_results = dict()\n",
    "for i in range(11):\n",
    "    tested_size = 50 + 25*i\n",
    "    small_results[tested_size] = test_gauss_jordan(tested_size)"
   ],
   "metadata": {
    "collapsed": false,
    "pycharm": {
     "name": "#%%\n"
    }
   }
  },
  {
   "cell_type": "markdown",
   "source": [
    "Widząc jak bardzo zmienia się czas wykonywania algorytmu z użyciem `full_pivoting`, zdecydowałem się przerwać jego iterację na wyżej wypisanych przykładach i następne obliczenia (dla o wiele większych macierzy) wykonać tylko dla `partial_pivoting` oraz algorytmu wbudowanego w numpy."
   ],
   "metadata": {
    "collapsed": false
   }
  },
  {
   "cell_type": "code",
   "execution_count": 27,
   "outputs": [
    {
     "name": "stdout",
     "output_type": "stream",
     "text": [
      "MATRIX SIZE: 350\n",
      "TIMES: partial_pivot: 1.26068115234375, numpy_linalg_solve: 0.001995086669921875\n",
      "Partial pivoting works fine with size\n",
      "\n",
      "MATRIX SIZE: 400\n",
      "TIMES: partial_pivot: 1.4583160877227783, numpy_linalg_solve: 0.0019648075103759766\n",
      "Partial pivoting works fine with size\n",
      "\n",
      "MATRIX SIZE: 450\n",
      "TIMES: partial_pivot: 1.7415688037872314, numpy_linalg_solve: 0.0019745826721191406\n",
      "Partial pivoting works fine with size\n",
      "\n",
      "MATRIX SIZE: 500\n",
      "TIMES: partial_pivot: 2.2046852111816406, numpy_linalg_solve: 0.004034996032714844\n",
      "Partial pivoting works fine with size\n",
      "\n",
      "MATRIX SIZE: 550\n",
      "TIMES: partial_pivot: 3.1646511554718018, numpy_linalg_solve: 0.002991914749145508\n",
      "Partial pivoting works fine with size\n",
      "\n",
      "MATRIX SIZE: 600\n",
      "TIMES: partial_pivot: 3.4029252529144287, numpy_linalg_solve: 0.0029582977294921875\n",
      "Partial pivoting works fine with size\n",
      "\n",
      "MATRIX SIZE: 650\n",
      "TIMES: partial_pivot: 4.076430797576904, numpy_linalg_solve: 0.0049860477447509766\n",
      "Partial pivoting works fine with size\n",
      "\n",
      "MATRIX SIZE: 700\n",
      "TIMES: partial_pivot: 4.660994291305542, numpy_linalg_solve: 0.004986763000488281\n",
      "Partial pivoting works fine with size\n",
      "\n",
      "MATRIX SIZE: 750\n",
      "TIMES: partial_pivot: 5.583857297897339, numpy_linalg_solve: 0.007978200912475586\n",
      "Partial pivoting works fine with size\n",
      "\n",
      "MATRIX SIZE: 800\n",
      "TIMES: partial_pivot: 6.284884214401245, numpy_linalg_solve: 0.009485721588134766\n",
      "Partial pivoting works fine with size\n",
      "\n",
      "MATRIX SIZE: 850\n",
      "TIMES: partial_pivot: 7.225572347640991, numpy_linalg_solve: 0.014225244522094727\n",
      "Partial pivoting works fine with size\n",
      "\n",
      "MATRIX SIZE: 900\n",
      "TIMES: partial_pivot: 8.176802158355713, numpy_linalg_solve: 0.007955789566040039\n",
      "Partial pivoting works fine with size\n",
      "\n",
      "MATRIX SIZE: 950\n",
      "TIMES: partial_pivot: 9.084094047546387, numpy_linalg_solve: 0.014445066452026367\n",
      "Partial pivoting works fine with size\n",
      "\n",
      "MATRIX SIZE: 1000\n",
      "TIMES: partial_pivot: 10.158520460128784, numpy_linalg_solve: 0.015918254852294922\n",
      "Partial pivoting works fine with size\n",
      "\n"
     ]
    }
   ],
   "source": [
    "large_result = dict()\n",
    "\n",
    "for i in range(14):\n",
    "    tested_size = 350 + 50*i\n",
    "    large_result[tested_size] = test_gauss_jordan(tested_size, with_full=False)"
   ],
   "metadata": {
    "collapsed": false,
    "pycharm": {
     "name": "#%%\n"
    }
   }
  },
  {
   "cell_type": "code",
   "execution_count": 28,
   "outputs": [
    {
     "data": {
      "text/plain": "<Figure size 432x288 with 1 Axes>",
      "image/png": "[encoded data removed]"
     },
     "metadata": {
      "needs_background": "light"
     },
     "output_type": "display_data"
    }
   ],
   "source": [
    "def create_time_plot(times_with_full_piv, times_without_full_piv):\n",
    "    N = list(times_with_full_piv.keys())\n",
    "    full_piv = [times_with_full_piv[n]['full'] for n in N]\n",
    "    plt.plot(N, full_piv)\n",
    "\n",
    "    N.extend(list(times_without_full_piv.keys()))\n",
    "    part_piv = [times_with_full_piv[n]['part'] if n in times_with_full_piv else times_without_full_piv[n]['part'] for n in N]\n",
    "    numpy = [times_with_full_piv[n]['numpy'] if n in times_with_full_piv else times_without_full_piv[n]['numpy']  for n in N]\n",
    "\n",
    "    plt.plot(N, part_piv)\n",
    "    plt.plot(N, numpy)\n",
    "    plt.legend(['Full pivoting', 'Partial pivoting', 'Numpy solve'], bbox_to_anchor=(1.02, 1), loc='upper left', borderaxespad=0)\n",
    "    plt.xlabel('Matrix size')\n",
    "    plt.ylabel('Solving time [s]')\n",
    "    plt.title(f\"Time dependence on the size of the matrix\")\n",
    "    plt.show()\n",
    "\n",
    "create_time_plot(small_results, large_result)"
   ],
   "metadata": {
    "collapsed": false,
    "pycharm": {
     "name": "#%%\n"
    }
   }
  },
  {
   "cell_type": "markdown",
   "source": [
    "## 2. Faktoryzacja LU"
   ],
   "metadata": {
    "collapsed": false
   }
  },
  {
   "cell_type": "code",
   "execution_count": null,
   "outputs": [],
   "source": [],
   "metadata": {
    "collapsed": false,
    "pycharm": {
     "name": "#%%\n"
    }
   }
  }
 ],
 "metadata": {
  "kernelspec": {
   "display_name": "Python 3",
   "language": "python",
   "name": "python3"
  },
  "language_info": {
   "codemirror_mode": {
    "name": "ipython",
    "version": 2
   },
   "file_extension": ".py",
   "mimetype": "text/x-python",
   "name": "python",
   "nbconvert_exporter": "python",
   "pygments_lexer": "ipython2",
   "version": "2.7.6"
  }
 },
 "nbformat": 4,
 "nbformat_minor": 0
}
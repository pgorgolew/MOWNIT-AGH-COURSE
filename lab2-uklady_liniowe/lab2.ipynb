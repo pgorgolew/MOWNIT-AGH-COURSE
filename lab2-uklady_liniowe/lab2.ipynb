{
 "cells": [
  {
   "cell_type": "markdown",
   "source": [
    "# Metody Obliczeniowe w Nauce i Technice Laboratorium 2\n",
    "## Rozwiazywanie układów równan liniowych\n",
    "### Paweł Gorgolewski"
   ],
   "metadata": {
    "collapsed": false,
    "pycharm": {
     "name": "#%% md\n"
    }
   }
  },
  {
   "cell_type": "markdown",
   "source": [
    "## 1. Metoda Gaussa-Jordana"
   ],
   "metadata": {
    "collapsed": false
   }
  },
  {
   "cell_type": "code",
   "execution_count": 1,
   "metadata": {
    "collapsed": true
   },
   "outputs": [],
   "source": [
    "import numpy as np\n",
    "import random\n",
    "import matplotlib.pyplot as plt\n",
    "import time"
   ]
  },
  {
   "cell_type": "code",
   "execution_count": 2,
   "outputs": [],
   "source": [
    "def full_pivoting(A: np.array, B: np.array, min_id: int, curr_col_order: list):\n",
    "    n = A.shape[0]\n",
    "    max_row_id, max_col_id = np.unravel_index(np.abs(A[min_id:, min_id:]).argmax(), [n-min_id, n-min_id])\n",
    "    max_row_id += min_id\n",
    "    max_col_id += min_id\n",
    "\n",
    "    if max_row_id != min_id:\n",
    "        #lets, change rows\n",
    "        A[[min_id, max_row_id]], B[[min_id, max_row_id]] = A[[max_row_id, min_id]], B[[max_row_id, min_id]]\n",
    "\n",
    "    if max_col_id != min_id:\n",
    "        #lets change cols\n",
    "        A[:, [min_id, max_col_id]] = A[:, [max_col_id, min_id]]\n",
    "\n",
    "    #scaling\n",
    "    scaling_val = A[min_id, min_id]\n",
    "    A[min_id] /= scaling_val\n",
    "    B[min_id] /= scaling_val\n",
    "\n",
    "    curr_col_order.append((min_id, max_col_id))\n",
    "\n",
    "def gauss_jordan_full_pivoting(A: np.array, B: np.array):\n",
    "    n = A.shape[0]\n",
    "    if n < A.shape[1]:\n",
    "        print(\"Too many unknows\")\n",
    "        return None\n",
    "\n",
    "    A_copy, B_copy = np.copy(A), np.copy(B)\n",
    "    permutations = list()\n",
    "    for i in range(n):\n",
    "        full_pivoting(A_copy, B_copy, i, permutations) #Reshape A i B to get the piwot at the top\n",
    "        pivot = A_copy[i,i]\n",
    "        for j in range(n):\n",
    "            if j==i: \n",
    "                continue\n",
    "            \n",
    "            m = A_copy[j,i]/pivot\n",
    "            A_copy[j] = np.subtract(A_copy[j], A_copy[i]*m)\n",
    "            B_copy[j] = np.subtract(B_copy[j], B_copy[i]*m)\n",
    "\n",
    "    for i in range(n):\n",
    "        B_copy[i] /= A_copy[i,i]\n",
    "\n",
    "    #Now we have results in B but without a proper order\n",
    "    while permutations:\n",
    "        i, j = permutations.pop()\n",
    "        B_copy[[j, i]] = B_copy[[i, j]]\n",
    "\n",
    "    return B_copy"
   ],
   "metadata": {
    "collapsed": false,
    "pycharm": {
     "name": "#%%\n"
    }
   }
  },
  {
   "cell_type": "code",
   "execution_count": 3,
   "outputs": [],
   "source": [
    "def partial_piwoting(A: np.array, B: np.array, row_id: int):\n",
    "    n = A.shape[0]\n",
    "    max_row_id, max_col_id = np.unravel_index(np.abs(A[row_id:, row_id]).argmax(), [n-row_id, 1])\n",
    "    max_row_id += row_id\n",
    "\n",
    "    if max_row_id != row_id:\n",
    "        #lets, change rows\n",
    "        A[[row_id, max_row_id]], B[[row_id, max_row_id]] = A[[max_row_id, row_id]], B[[max_row_id, row_id]]\n",
    "\n",
    "    #scaling\n",
    "    scaling_val = A[row_id, row_id]\n",
    "    A[row_id] /= scaling_val\n",
    "    B[row_id] /= scaling_val\n",
    "\n",
    "    return A,B\n",
    "\n",
    "def gauss_jordan(A: np.array, B: np.array):\n",
    "    n = A.shape[0]\n",
    "    A_copy, B_copy = np.copy(A), np.copy(B)\n",
    "\n",
    "    if n < A_copy.shape[1]:\n",
    "        print(\"Too many unknows\")\n",
    "        return None\n",
    "\n",
    "    for i in range(A.shape[1]):\n",
    "        partial_piwoting(A_copy, B_copy, i) #Reshape A i B to get the piwot at the top\n",
    "        pivot = A_copy[i,i]\n",
    "\n",
    "        for j in range(i+1, n):\n",
    "            #lets go w dół\n",
    "            m = A_copy[j,i]/pivot\n",
    "            A_copy[j] = np.subtract(A_copy[j], A_copy[i]*m)\n",
    "            B_copy[j] = B_copy[j] - B_copy[i] * m\n",
    "\n",
    "        for z in range(0, i):\n",
    "            #lets go w górę\n",
    "            m = A_copy[z,i]/pivot\n",
    "            A_copy[z] = np.subtract(A_copy[z], A_copy[i]*m)\n",
    "            B_copy[z] = B_copy[z] - B_copy[i] * m\n",
    "\n",
    "    for i in range(n):\n",
    "        B_copy[i] = B_copy[i]/A_copy[i,i]\n",
    "\n",
    "    return B_copy"
   ],
   "metadata": {
    "collapsed": false,
    "pycharm": {
     "name": "#%%\n"
    }
   }
  },
  {
   "cell_type": "code",
   "execution_count": 4,
   "outputs": [],
   "source": [
    "def test_gauss_jordan(size: int):\n",
    "    random.seed(10)\n",
    "    matrix = np.random.random((size, size))\n",
    "    results = np.random.random((size, 1))\n",
    "    time_res = dict()\n",
    "\n",
    "    start = time.time()\n",
    "    part = gauss_jordan(matrix, results)\n",
    "    time_res[\"part\"] = time.time() - start\n",
    "\n",
    "    start = time.time()\n",
    "    full = gauss_jordan_full_pivoting(matrix, results)\n",
    "    time_res[\"full\"] = time.time() - start\n",
    "\n",
    "    start = time.time()\n",
    "    res = np.linalg.solve(matrix, results)\n",
    "    time_res[\"numpy\"] = time.time() - start\n",
    "\n",
    "    print(f\"MATRIX SIZE: {size}\")\n",
    "\n",
    "    print(f\"TIMES: partial_pivot: {time_res['part']}, full_pivot: {time_res['full']}, numpy_linalg_solve: {time_res['numpy']}\")\n",
    "    np.testing.assert_allclose(res, full)\n",
    "    print(f\"Full pivoting works fine with size\")\n",
    "\n",
    "    np.testing.assert_allclose(part, res)\n",
    "    print(f\"Partial pivoting works fine with size\\n\")\n",
    "\n",
    "    return time_res"
   ],
   "metadata": {
    "collapsed": false,
    "pycharm": {
     "name": "#%%\n"
    }
   }
  },
  {
   "cell_type": "markdown",
   "source": [
    "Sprawdzenie poprawności zarówno dla `partial_pivoting` jak i `full_pivoting` wraz z wykresem zależności czasu od wielkości macierzy:"
   ],
   "metadata": {
    "collapsed": false
   }
  },
  {
   "cell_type": "code",
   "execution_count": 5,
   "outputs": [
    {
     "name": "stdout",
     "output_type": "stream",
     "text": [
      "MATRIX SIZE: 50\n",
      "TIMES: partial_pivot: 0.0249330997467041, full_pivot: 0.021940946578979492, numpy_linalg_solve: 0.026930809020996094\n",
      "Full pivoting works fine with size\n",
      "Partial pivoting works fine with size\n",
      "\n",
      "MATRIX SIZE: 100\n",
      "TIMES: partial_pivot: 0.08228397369384766, full_pivot: 0.08498954772949219, numpy_linalg_solve: 0.0\n",
      "Full pivoting works fine with size\n",
      "Partial pivoting works fine with size\n",
      "\n",
      "MATRIX SIZE: 150\n",
      "TIMES: partial_pivot: 0.18751740455627441, full_pivot: 0.20182061195373535, numpy_linalg_solve: 0.0029926300048828125\n",
      "Full pivoting works fine with size\n",
      "Partial pivoting works fine with size\n",
      "\n",
      "MATRIX SIZE: 200\n",
      "TIMES: partial_pivot: 0.3390936851501465, full_pivot: 0.3590397834777832, numpy_linalg_solve: 0.0009982585906982422\n",
      "Full pivoting works fine with size\n",
      "Partial pivoting works fine with size\n",
      "\n",
      "MATRIX SIZE: 250\n",
      "TIMES: partial_pivot: 0.5193650722503662, full_pivot: 0.5581352710723877, numpy_linalg_solve: 0.000997304916381836\n",
      "Full pivoting works fine with size\n",
      "Partial pivoting works fine with size\n",
      "\n",
      "MATRIX SIZE: 300\n",
      "TIMES: partial_pivot: 0.7476954460144043, full_pivot: 0.8134353160858154, numpy_linalg_solve: 0.001995086669921875\n",
      "Full pivoting works fine with size\n",
      "Partial pivoting works fine with size\n",
      "\n",
      "MATRIX SIZE: 350\n",
      "TIMES: partial_pivot: 1.0839591026306152, full_pivot: 1.2641487121582031, numpy_linalg_solve: 0.001995086669921875\n",
      "Full pivoting works fine with size\n",
      "Partial pivoting works fine with size\n",
      "\n",
      "MATRIX SIZE: 400\n",
      "TIMES: partial_pivot: 1.4819700717926025, full_pivot: 1.5700335502624512, numpy_linalg_solve: 0.0010006427764892578\n",
      "Full pivoting works fine with size\n",
      "Partial pivoting works fine with size\n",
      "\n",
      "MATRIX SIZE: 450\n",
      "TIMES: partial_pivot: 1.8059687614440918, full_pivot: 2.069319248199463, numpy_linalg_solve: 0.0029916763305664062\n",
      "Full pivoting works fine with size\n",
      "Partial pivoting works fine with size\n",
      "\n",
      "MATRIX SIZE: 500\n",
      "TIMES: partial_pivot: 2.411578893661499, full_pivot: 2.602754831314087, numpy_linalg_solve: 0.0019958019256591797\n",
      "Full pivoting works fine with size\n",
      "Partial pivoting works fine with size\n",
      "\n",
      "MATRIX SIZE: 550\n",
      "TIMES: partial_pivot: 2.9834346771240234, full_pivot: 3.4671683311462402, numpy_linalg_solve: 0.00498652458190918\n",
      "Full pivoting works fine with size\n",
      "Partial pivoting works fine with size\n",
      "\n",
      "MATRIX SIZE: 600\n",
      "TIMES: partial_pivot: 3.578695297241211, full_pivot: 3.96734881401062, numpy_linalg_solve: 0.003989696502685547\n",
      "Full pivoting works fine with size\n",
      "Partial pivoting works fine with size\n",
      "\n",
      "MATRIX SIZE: 650\n",
      "TIMES: partial_pivot: 4.196732044219971, full_pivot: 5.216267824172974, numpy_linalg_solve: 0.00398707389831543\n",
      "Full pivoting works fine with size\n",
      "Partial pivoting works fine with size\n",
      "\n",
      "MATRIX SIZE: 700\n",
      "TIMES: partial_pivot: 6.4330925941467285, full_pivot: 5.570034027099609, numpy_linalg_solve: 0.005983829498291016\n",
      "Full pivoting works fine with size\n",
      "Partial pivoting works fine with size\n",
      "\n",
      "MATRIX SIZE: 750\n",
      "TIMES: partial_pivot: 5.634201526641846, full_pivot: 6.465875625610352, numpy_linalg_solve: 0.0049839019775390625\n",
      "Full pivoting works fine with size\n",
      "Partial pivoting works fine with size\n",
      "\n",
      "MATRIX SIZE: 800\n",
      "TIMES: partial_pivot: 6.326887845993042, full_pivot: 7.121776342391968, numpy_linalg_solve: 0.010971307754516602\n",
      "Full pivoting works fine with size\n",
      "Partial pivoting works fine with size\n",
      "\n",
      "MATRIX SIZE: 850\n",
      "TIMES: partial_pivot: 7.292141675949097, full_pivot: 8.311655044555664, numpy_linalg_solve: 0.008976221084594727\n",
      "Full pivoting works fine with size\n",
      "Partial pivoting works fine with size\n",
      "\n",
      "MATRIX SIZE: 900\n",
      "TIMES: partial_pivot: 8.155568599700928, full_pivot: 9.416232585906982, numpy_linalg_solve: 0.010971546173095703\n",
      "Full pivoting works fine with size\n",
      "Partial pivoting works fine with size\n",
      "\n",
      "MATRIX SIZE: 950\n",
      "TIMES: partial_pivot: 9.15585732460022, full_pivot: 11.183284759521484, numpy_linalg_solve: 0.010970830917358398\n",
      "Full pivoting works fine with size\n",
      "Partial pivoting works fine with size\n",
      "\n",
      "MATRIX SIZE: 1000\n",
      "TIMES: partial_pivot: 10.449157953262329, full_pivot: 12.71201205253601, numpy_linalg_solve: 0.013965845108032227\n",
      "Full pivoting works fine with size\n",
      "Partial pivoting works fine with size\n",
      "\n"
     ]
    }
   ],
   "source": [
    "result = dict()\n",
    "\n",
    "for i in range(20):\n",
    "    tested_size = 50 + 50*i\n",
    "    result[tested_size] = test_gauss_jordan(tested_size)"
   ],
   "metadata": {
    "collapsed": false,
    "pycharm": {
     "name": "#%%\n"
    }
   }
  },
  {
   "cell_type": "code",
   "execution_count": 6,
   "outputs": [
    {
     "data": {
      "text/plain": "<Figure size 432x288 with 1 Axes>",
      "image/png": "[encoded data removed]"
     },
     "metadata": {
      "needs_background": "light"
     },
     "output_type": "display_data"
    }
   ],
   "source": [
    "def create_time_plot(times):\n",
    "    N = list(times.keys())\n",
    "\n",
    "    full_piv = [times[n]['full'] for n in N]\n",
    "    part_piv = [times[n]['part'] for n in N]\n",
    "    numpy = [times[n]['numpy'] for n in N]\n",
    "\n",
    "    plt.plot(N, full_piv)\n",
    "    plt.plot(N, part_piv)\n",
    "    plt.plot(N, numpy)\n",
    "    plt.legend(['Full pivoting', 'Partial pivoting', 'Numpy solve'], bbox_to_anchor=(1.02, 1), loc='upper left', borderaxespad=0)\n",
    "    plt.xlabel('Matrix size')\n",
    "    plt.ylabel('Solving time [s]')\n",
    "    plt.title(f\"Time dependence on the size of the matrix\")\n",
    "    plt.show()\n",
    "\n",
    "create_time_plot(result)"
   ],
   "metadata": {
    "collapsed": false,
    "pycharm": {
     "name": "#%%\n"
    }
   }
  },
  {
   "cell_type": "markdown",
   "source": [
    "Wnioski:\n",
    "1. Algorytm jest poprawny -> nie pojawił się żaden *AssertioError* podczas testowania\n",
    "2. Poprzez zastosowanie operacji z biblioteki numpy, `full pivoting` jest tylko nieznacznie wolniejszy od `partial pivotingu`"
   ],
   "metadata": {
    "collapsed": false
   }
  },
  {
   "cell_type": "markdown",
   "source": [
    "## 2. Faktoryzacja LU"
   ],
   "metadata": {
    "collapsed": false
   }
  },
  {
   "cell_type": "code",
   "execution_count": null,
   "outputs": [],
   "source": [],
   "metadata": {
    "collapsed": false,
    "pycharm": {
     "name": "#%%\n"
    }
   }
  }
 ],
 "metadata": {
  "kernelspec": {
   "display_name": "Python 3",
   "language": "python",
   "name": "python3"
  },
  "language_info": {
   "codemirror_mode": {
    "name": "ipython",
    "version": 2
   },
   "file_extension": ".py",
   "mimetype": "text/x-python",
   "name": "python",
   "nbconvert_exporter": "python",
   "pygments_lexer": "ipython2",
   "version": "2.7.6"
  }
 },
 "nbformat": 4,
 "nbformat_minor": 0
}
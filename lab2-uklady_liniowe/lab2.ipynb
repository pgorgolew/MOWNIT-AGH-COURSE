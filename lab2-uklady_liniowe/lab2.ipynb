{
 "cells": [
  {
   "cell_type": "code",
   "execution_count": 1,
   "metadata": {
    "collapsed": true
   },
   "outputs": [],
   "source": [
    "import numpy as np\n",
    "import random\n",
    "import matplotlib.pyplot as plt\n",
    "import time"
   ]
  },
  {
   "cell_type": "code",
   "execution_count": 2,
   "outputs": [],
   "source": [
    "def full_pivoting(A: np.array, B: np.array, row_id: int, curr_col_order: list):\n",
    "    max_row_id, max_col_id = row_id, row_id\n",
    "    for r in range(row_id, A.shape[0]):\n",
    "        for c in range(row_id, A.shape[1]):\n",
    "            if abs(A[r, c]) > abs(A[max_row_id, max_col_id]):\n",
    "                max_row_id, max_col_id = r, c\n",
    "\n",
    "    if max_row_id != row_id:\n",
    "        #lets, change rows\n",
    "        copyA, copyB = np.copy(A[row_id]), np.copy(B[row_id])\n",
    "        A[row_id], B[row_id] = A[max_row_id], B[max_row_id]\n",
    "        A[max_row_id], B[max_row_id] = copyA, copyB\n",
    "\n",
    "    if max_col_id != row_id:\n",
    "        #lets change cols\n",
    "        copy_col_with_max = np.copy(A[:, max_col_id])\n",
    "        A[:, max_col_id] = A[:, row_id]\n",
    "        A[:, row_id] = copy_col_with_max\n",
    "\n",
    "    curr_col_order[row_id], curr_col_order[max_col_id] = curr_col_order[max_col_id], curr_col_order[row_id]\n",
    "\n",
    "def gauss_jordan_full_pivoting(A: np.array, B: np.array):\n",
    "    n = A.shape[0]\n",
    "    if n < A.shape[1]:\n",
    "        print(\"Too many unknows\")\n",
    "        return None\n",
    "\n",
    "    A_copy, B_copy = np.copy(A), np.copy(B)\n",
    "    curr_col_order = [i for i in range(A_copy.shape[1])]\n",
    "    for i in range(n):\n",
    "        full_pivoting(A_copy, B_copy, i, curr_col_order) #Reshape A i B to get the piwot at the top\n",
    "        pivot = A_copy[i,i]\n",
    "\n",
    "        for j in range(i+1, n):\n",
    "            #lets go w dół\n",
    "            m = A_copy[j,i]/pivot\n",
    "            A_copy[j] = np.subtract(A_copy[j], A_copy[i]*m)\n",
    "            B_copy[j] = B_copy[j] - B_copy[i] * m\n",
    "\n",
    "        for z in range(0, i):\n",
    "            #lets go w górę\n",
    "            m = A_copy[z,i]/pivot\n",
    "            A_copy[z] = np.subtract(A_copy[z], A_copy[i]*m)\n",
    "            B_copy[z] = B_copy[z] - B_copy[i] * m\n",
    "\n",
    "    for i in range(n):\n",
    "        B_copy[i] = B_copy[i]/A_copy[i,i]\n",
    "\n",
    "    #Now we have results in B but without a proper order\n",
    "    result = np.copy(B_copy)\n",
    "    for i in range(A_copy.shape[1]):\n",
    "        if curr_col_order[i] == i:\n",
    "            continue\n",
    "\n",
    "        curr_pos = curr_col_order[i]\n",
    "        result[curr_pos] = B_copy[i]\n",
    "\n",
    "    return result"
   ],
   "metadata": {
    "collapsed": false,
    "pycharm": {
     "name": "#%%\n"
    }
   }
  },
  {
   "cell_type": "code",
   "execution_count": 3,
   "outputs": [],
   "source": [
    "def partial_piwoting(A: np.array, B: np.array, row_id: int):\n",
    "    max_row_id = row_id\n",
    "    for i in range(row_id+1, A.shape[0]):\n",
    "        if abs(A[i, row_id]) > abs(A[max_row_id, row_id]):\n",
    "            max_row_id = i\n",
    "\n",
    "    copyA, copyB = np.copy(A[row_id]), np.copy(B[row_id])\n",
    "    A[row_id], B[row_id] = A[max_row_id], B[max_row_id]\n",
    "    A[max_row_id], B[max_row_id] = copyA, copyB\n",
    "\n",
    "    return A,B\n",
    "\n",
    "def gauss_jordan(A: np.array, B: np.array):\n",
    "    n = A.shape[0]\n",
    "    A_copy, B_copy = np.copy(A), np.copy(B)\n",
    "\n",
    "    if n < A_copy.shape[1]:\n",
    "        print(\"Too many unknows\")\n",
    "        return None\n",
    "\n",
    "    for i in range(A.shape[1]):\n",
    "        partial_piwoting(A_copy, B_copy, i) #Reshape A i B to get the piwot at the top\n",
    "        pivot = A_copy[i,i]\n",
    "\n",
    "        for j in range(i+1, n):\n",
    "            #lets go w dół\n",
    "            m = A_copy[j,i]/pivot\n",
    "            A_copy[j] = np.subtract(A_copy[j], A_copy[i]*m)\n",
    "            B_copy[j] = B_copy[j] - B_copy[i] * m\n",
    "\n",
    "        for z in range(0, i):\n",
    "            #lets go w górę\n",
    "            m = A_copy[z,i]/pivot\n",
    "            A_copy[z] = np.subtract(A_copy[z], A_copy[i]*m)\n",
    "            B_copy[z] = B_copy[z] - B_copy[i] * m\n",
    "\n",
    "    for i in range(n):\n",
    "        B_copy[i] = B_copy[i]/A_copy[i,i]\n",
    "\n",
    "    return B_copy"
   ],
   "metadata": {
    "collapsed": false,
    "pycharm": {
     "name": "#%%\n"
    }
   }
  },
  {
   "cell_type": "code",
   "execution_count": 4,
   "outputs": [],
   "source": [
    "def test_gauss_jordan(size: int, with_full=True):\n",
    "    random.seed(10)\n",
    "    matrix = np.random.random((size, size))\n",
    "    results = np.random.random((size, 1))\n",
    "    time_res = dict()\n",
    "\n",
    "    start = time.time()\n",
    "    part = gauss_jordan(matrix, results)\n",
    "    time_res[\"part\"] = time.time() - start\n",
    "\n",
    "    if with_full:\n",
    "        start = time.time()\n",
    "        full = gauss_jordan_full_pivoting(matrix, results)\n",
    "        time_res[\"full\"] = time.time() - start\n",
    "\n",
    "    start = time.time()\n",
    "    res = np.linalg.solve(matrix, results)\n",
    "    time_res[\"numpy\"] = time.time() - start\n",
    "\n",
    "    print(f\"MATRIX SIZE: {size}\")\n",
    "    if with_full:\n",
    "        print(f\"TIMES: partial_pivot: {time_res['part']}, full_pivot: {time_res['full']}, numpy_linalg_solve: {time_res['numpy']}\")\n",
    "        np.testing.assert_allclose(res, full)\n",
    "        print(f\"Full pivoting works fine with size\")\n",
    "    else:\n",
    "        print(f\"TIMES: partial_pivot: {time_res['part']}, numpy_linalg_solve: {time_res['numpy']}\")\n",
    "\n",
    "    np.testing.assert_allclose(part, res)\n",
    "    print(f\"Partial pivoting works fine with size\\n\")\n",
    "\n",
    "    return time_res"
   ],
   "metadata": {
    "collapsed": false,
    "pycharm": {
     "name": "#%%\n"
    }
   }
  },
  {
   "cell_type": "markdown",
   "source": [
    "Sprawdzenie poprawności zarówno dla `partial_pivoting` jak i `full_pivoting`:"
   ],
   "metadata": {
    "collapsed": false
   }
  },
  {
   "cell_type": "code",
   "execution_count": 8,
   "outputs": [
    {
     "name": "stdout",
     "output_type": "stream",
     "text": [
      "MATRIX SIZE: 50\n",
      "TIMES: partial_pivot: 0.021943092346191406, full_pivot: 0.05485057830810547, numpy_linalg_solve: 0.0\n",
      "Full pivoting works fine with size\n",
      "Partial pivoting works fine with size\n",
      "\n",
      "MATRIX SIZE: 75\n",
      "TIMES: partial_pivot: 0.03989386558532715, full_pivot: 0.12967920303344727, numpy_linalg_solve: 0.0\n",
      "Full pivoting works fine with size\n",
      "Partial pivoting works fine with size\n",
      "\n",
      "MATRIX SIZE: 100\n",
      "TIMES: partial_pivot: 0.06878876686096191, full_pivot: 0.37404441833496094, numpy_linalg_solve: 0.0\n",
      "Full pivoting works fine with size\n",
      "Partial pivoting works fine with size\n",
      "\n",
      "MATRIX SIZE: 125\n",
      "TIMES: partial_pivot: 0.26927947998046875, full_pivot: 0.9952714443206787, numpy_linalg_solve: 0.0\n",
      "Full pivoting works fine with size\n",
      "Partial pivoting works fine with size\n",
      "\n",
      "MATRIX SIZE: 150\n",
      "TIMES: partial_pivot: 0.2754497528076172, full_pivot: 1.190687894821167, numpy_linalg_solve: 0.007979154586791992\n",
      "Full pivoting works fine with size\n",
      "Partial pivoting works fine with size\n",
      "\n",
      "MATRIX SIZE: 175\n",
      "TIMES: partial_pivot: 0.28822755813598633, full_pivot: 2.1547441482543945, numpy_linalg_solve: 0.0009970664978027344\n",
      "Full pivoting works fine with size\n",
      "Partial pivoting works fine with size\n",
      "\n",
      "MATRIX SIZE: 200\n",
      "TIMES: partial_pivot: 0.32128190994262695, full_pivot: 2.124152421951294, numpy_linalg_solve: 0.0\n",
      "Full pivoting works fine with size\n",
      "Partial pivoting works fine with size\n",
      "\n",
      "MATRIX SIZE: 225\n",
      "TIMES: partial_pivot: 0.39352965354919434, full_pivot: 2.8967387676239014, numpy_linalg_solve: 0.0009975433349609375\n",
      "Full pivoting works fine with size\n",
      "Partial pivoting works fine with size\n",
      "\n",
      "MATRIX SIZE: 250\n",
      "TIMES: partial_pivot: 0.4826231002807617, full_pivot: 4.689608097076416, numpy_linalg_solve: 0.000997781753540039\n",
      "Full pivoting works fine with size\n",
      "Partial pivoting works fine with size\n",
      "\n",
      "MATRIX SIZE: 275\n",
      "TIMES: partial_pivot: 0.7852761745452881, full_pivot: 5.961410045623779, numpy_linalg_solve: 0.026928186416625977\n",
      "Full pivoting works fine with size\n",
      "Partial pivoting works fine with size\n",
      "\n",
      "MATRIX SIZE: 300\n",
      "TIMES: partial_pivot: 0.7678108215332031, full_pivot: 13.645707845687866, numpy_linalg_solve: 0.010519981384277344\n",
      "Full pivoting works fine with size\n",
      "Partial pivoting works fine with size\n",
      "\n"
     ]
    }
   ],
   "source": [
    "small_results = dict()\n",
    "for i in range(11):\n",
    "    tested_size = 50 + 25*i\n",
    "    small_results[tested_size] = test_gauss_jordan(tested_size)"
   ],
   "metadata": {
    "collapsed": false,
    "pycharm": {
     "name": "#%%\n"
    }
   }
  },
  {
   "cell_type": "markdown",
   "source": [
    "Widząc jak bardzo zmienia się czas wykonywania algorytmu z użyciem `full_pivoting`, zdecydowałem się przerwać jego iterację na wyżej wypisanych przykładach i następne obliczenia (dla o wiele większych macierzy) wykonać tylko dal `partial_pivoting` oraz algorytmu wbudowanego w numpy."
   ],
   "metadata": {
    "collapsed": false
   }
  },
  {
   "cell_type": "code",
   "execution_count": 9,
   "outputs": [
    {
     "name": "stdout",
     "output_type": "stream",
     "text": [
      "MATRIX SIZE: 350\n",
      "TIMES: partial_pivot: 1.364159345626831, numpy_linalg_solve: 0.0\n",
      "Partial pivoting works fine with size\n",
      "\n",
      "MATRIX SIZE: 400\n",
      "TIMES: partial_pivot: 2.1352336406707764, numpy_linalg_solve: 0.0\n",
      "Partial pivoting works fine with size\n",
      "\n",
      "MATRIX SIZE: 450\n",
      "TIMES: partial_pivot: 3.007815361022949, numpy_linalg_solve: 0.0032296180725097656\n",
      "Partial pivoting works fine with size\n",
      "\n",
      "MATRIX SIZE: 500\n",
      "TIMES: partial_pivot: 3.6600289344787598, numpy_linalg_solve: 0.0009970664978027344\n",
      "Partial pivoting works fine with size\n",
      "\n",
      "MATRIX SIZE: 550\n",
      "TIMES: partial_pivot: 4.178042888641357, numpy_linalg_solve: 0.0032722949981689453\n",
      "Partial pivoting works fine with size\n",
      "\n",
      "MATRIX SIZE: 600\n",
      "TIMES: partial_pivot: 5.257572889328003, numpy_linalg_solve: 0.005501985549926758\n",
      "Partial pivoting works fine with size\n",
      "\n",
      "MATRIX SIZE: 650\n",
      "TIMES: partial_pivot: 5.8601930141448975, numpy_linalg_solve: 0.056467533111572266\n",
      "Partial pivoting works fine with size\n",
      "\n",
      "MATRIX SIZE: 700\n",
      "TIMES: partial_pivot: 7.360568523406982, numpy_linalg_solve: 0.03720235824584961\n",
      "Partial pivoting works fine with size\n",
      "\n",
      "MATRIX SIZE: 750\n",
      "TIMES: partial_pivot: 7.242285490036011, numpy_linalg_solve: 0.0029916763305664062\n",
      "Partial pivoting works fine with size\n",
      "\n",
      "MATRIX SIZE: 800\n",
      "TIMES: partial_pivot: 8.001133441925049, numpy_linalg_solve: 0.009996175765991211\n",
      "Partial pivoting works fine with size\n",
      "\n",
      "MATRIX SIZE: 850\n",
      "TIMES: partial_pivot: 11.127809047698975, numpy_linalg_solve: 0.01857280731201172\n",
      "Partial pivoting works fine with size\n",
      "\n",
      "MATRIX SIZE: 900\n",
      "TIMES: partial_pivot: 12.503093957901001, numpy_linalg_solve: 0.012371301651000977\n",
      "Partial pivoting works fine with size\n",
      "\n",
      "MATRIX SIZE: 950\n",
      "TIMES: partial_pivot: 13.00414752960205, numpy_linalg_solve: 0.03658437728881836\n",
      "Partial pivoting works fine with size\n",
      "\n",
      "MATRIX SIZE: 1000\n",
      "TIMES: partial_pivot: 16.92625856399536, numpy_linalg_solve: 0.10343623161315918\n",
      "Partial pivoting works fine with size\n",
      "\n"
     ]
    }
   ],
   "source": [
    "large_result = dict()\n",
    "\n",
    "for i in range(14):\n",
    "    tested_size = 350 + 50*i\n",
    "    large_result[tested_size] = test_gauss_jordan(tested_size, with_full=False)"
   ],
   "metadata": {
    "collapsed": false,
    "pycharm": {
     "name": "#%%\n"
    }
   }
  },
  {
   "cell_type": "code",
   "execution_count": 10,
   "outputs": [
    {
     "data": {
      "text/plain": "<Figure size 432x288 with 1 Axes>",
      "image/png": "[encoded data removed]"
     },
     "metadata": {
      "needs_background": "light"
     },
     "output_type": "display_data"
    }
   ],
   "source": [
    "def create_time_plot(times_with_full_piv, times_without_full_piv):\n",
    "    N = list(times_with_full_piv.keys())\n",
    "    full_piv = [times_with_full_piv[n]['full'] for n in N]\n",
    "    plt.plot(N, full_piv)\n",
    "\n",
    "    N.extend(list(times_without_full_piv.keys()))\n",
    "    part_piv = [times_with_full_piv[n]['part'] if n in times_with_full_piv else times_without_full_piv[n]['part'] for n in N]\n",
    "    numpy = [times_with_full_piv[n]['numpy'] if n in times_with_full_piv else times_without_full_piv[n]['numpy']  for n in N]\n",
    "\n",
    "    plt.plot(N, part_piv)\n",
    "    plt.plot(N, numpy)\n",
    "    plt.legend(['Full pivoting', 'Partial pivoting', 'Numpy solve'], bbox_to_anchor=(1.02, 1), loc='upper left', borderaxespad=0)\n",
    "    plt.xlabel('Matrix size')\n",
    "    plt.ylabel('Solving time [s]')\n",
    "    plt.title(f\"Time dependence on the size of the matrix\")\n",
    "    plt.show()\n",
    "\n",
    "create_time_plot(small_results, large_result)"
   ],
   "metadata": {
    "collapsed": false,
    "pycharm": {
     "name": "#%%\n"
    }
   }
  },
  {
   "cell_type": "code",
   "execution_count": 7,
   "outputs": [],
   "source": [],
   "metadata": {
    "collapsed": false,
    "pycharm": {
     "name": "#%%\n"
    }
   }
  }
 ],
 "metadata": {
  "kernelspec": {
   "display_name": "Python 3",
   "language": "python",
   "name": "python3"
  },
  "language_info": {
   "codemirror_mode": {
    "name": "ipython",
    "version": 2
   },
   "file_extension": ".py",
   "mimetype": "text/x-python",
   "name": "python",
   "nbconvert_exporter": "python",
   "pygments_lexer": "ipython2",
   "version": "2.7.6"
  }
 },
 "nbformat": 4,
 "nbformat_minor": 0
}
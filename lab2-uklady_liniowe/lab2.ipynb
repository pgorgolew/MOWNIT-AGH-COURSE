{
 "cells": [
  {
   "cell_type": "markdown",
   "source": [
    "# Metody Obliczeniowe w Nauce i Technice Laboratorium 2\n",
    "## Rozwiazywanie układów równan liniowych\n",
    "### Paweł Gorgolewski"
   ],
   "metadata": {
    "collapsed": false,
    "pycharm": {
     "name": "#%% md\n"
    }
   }
  },
  {
   "cell_type": "markdown",
   "source": [
    "## 1. Metoda Gaussa-Jordana"
   ],
   "metadata": {
    "collapsed": false
   }
  },
  {
   "cell_type": "code",
   "execution_count": 1,
   "metadata": {
    "collapsed": true
   },
   "outputs": [],
   "source": [
    "import numpy as np\n",
    "import matplotlib.pyplot as plt\n",
    "import time\n",
    "from numpy.linalg.linalg import LinAlgError"
   ]
  },
  {
   "cell_type": "code",
   "execution_count": 5,
   "outputs": [],
   "source": [
    "def full_pivoting(A: np.array, B: np.array, min_id: int, curr_col_order: list):\n",
    "    n = A.shape[0]\n",
    "    max_row_id, max_col_id = np.unravel_index(np.abs(A[min_id:, min_id:]).argmax(), [n-min_id, n-min_id])\n",
    "    max_row_id += min_id\n",
    "    max_col_id += min_id\n",
    "\n",
    "    if max_row_id != min_id:\n",
    "        #lets, change rows\n",
    "        A[[min_id, max_row_id]], B[[min_id, max_row_id]] = A[[max_row_id, min_id]], B[[max_row_id, min_id]]\n",
    "\n",
    "    if max_col_id != min_id:\n",
    "        #lets change cols\n",
    "        A[:, [min_id, max_col_id]] = A[:, [max_col_id, min_id]]\n",
    "\n",
    "    #scaling\n",
    "    scaling_val = A[min_id, min_id]\n",
    "    A[min_id] /= scaling_val\n",
    "    B[min_id] /= scaling_val\n",
    "\n",
    "    curr_col_order.append((min_id, max_col_id))\n",
    "\n",
    "def gauss_jordan_full_pivoting(A: np.array, B: np.array):\n",
    "    n = A.shape[0]\n",
    "    if n < A.shape[1]:\n",
    "        print(\"Too many unknows\")\n",
    "        return None\n",
    "\n",
    "    A_copy, B_copy = np.copy(A), np.copy(B)\n",
    "    permutations = list()\n",
    "    for i in range(n):\n",
    "        full_pivoting(A_copy, B_copy, i, permutations) #Reshape A i B to get the piwot at the top\n",
    "        pivot = A_copy[i,i]\n",
    "        for j in range(n):\n",
    "            if j==i: \n",
    "                continue\n",
    "            \n",
    "            m = A_copy[j,i]/pivot\n",
    "            A_copy[j] = np.subtract(A_copy[j], A_copy[i]*m)\n",
    "            B_copy[j] = np.subtract(B_copy[j], B_copy[i]*m)\n",
    "\n",
    "    for i in range(n):\n",
    "        B_copy[i] /= A_copy[i,i]\n",
    "\n",
    "    #Now we have results in B but without a proper order\n",
    "    while permutations:\n",
    "        i, j = permutations.pop()\n",
    "        B_copy[[j, i]] = B_copy[[i, j]]\n",
    "\n",
    "    return B_copy"
   ],
   "metadata": {
    "collapsed": false,
    "pycharm": {
     "name": "#%%\n"
    }
   }
  },
  {
   "cell_type": "code",
   "execution_count": 6,
   "outputs": [],
   "source": [
    "def partial_piwoting(A: np.array, B: np.array, row_id: int):\n",
    "    n = A.shape[0]\n",
    "    max_row_id, max_col_id = np.unravel_index(np.abs(A[row_id:, row_id]).argmax(), [n-row_id, 1])\n",
    "    max_row_id += row_id\n",
    "\n",
    "    if max_row_id != row_id:\n",
    "        #lets, change rows\n",
    "        A[[row_id, max_row_id]], B[[row_id, max_row_id]] = A[[max_row_id, row_id]], B[[max_row_id, row_id]]\n",
    "\n",
    "    #scaling\n",
    "    scaling_val = A[row_id, row_id]\n",
    "    A[row_id] /= scaling_val\n",
    "    B[row_id] /= scaling_val\n",
    "\n",
    "    return A,B\n",
    "\n",
    "def gauss_jordan(A: np.array, B: np.array):\n",
    "    n = A.shape[0]\n",
    "    A_copy, B_copy = np.copy(A), np.copy(B)\n",
    "\n",
    "    if n < A_copy.shape[1]:\n",
    "        print(\"Too many unknows\")\n",
    "        return None\n",
    "\n",
    "    for i in range(A.shape[1]):\n",
    "        partial_piwoting(A_copy, B_copy, i) #Reshape A i B to get the piwot at the top\n",
    "        pivot = A_copy[i,i]\n",
    "\n",
    "        for j in range(i+1, n):\n",
    "            #lets go w dół\n",
    "            m = A_copy[j,i]/pivot\n",
    "            A_copy[j] = np.subtract(A_copy[j], A_copy[i]*m)\n",
    "            B_copy[j] = B_copy[j] - B_copy[i] * m\n",
    "\n",
    "        for z in range(0, i):\n",
    "            #lets go w górę\n",
    "            m = A_copy[z,i]/pivot\n",
    "            A_copy[z] = np.subtract(A_copy[z], A_copy[i]*m)\n",
    "            B_copy[z] = B_copy[z] - B_copy[i] * m\n",
    "\n",
    "    for i in range(n):\n",
    "        B_copy[i] = B_copy[i]/A_copy[i,i]\n",
    "\n",
    "    return B_copy"
   ],
   "metadata": {
    "collapsed": false,
    "pycharm": {
     "name": "#%%\n"
    }
   }
  },
  {
   "cell_type": "code",
   "execution_count": 7,
   "outputs": [],
   "source": [
    "def test_gauss_jordan(size: int):\n",
    "    np.random.seed(10)\n",
    "    matrix = np.random.random((size, size))\n",
    "    results = np.random.random((size, 1))\n",
    "    time_res = dict()\n",
    "\n",
    "    start = time.time()\n",
    "    part = gauss_jordan(matrix, results)\n",
    "    time_res[\"part\"] = time.time() - start\n",
    "\n",
    "    start = time.time()\n",
    "    full = gauss_jordan_full_pivoting(matrix, results)\n",
    "    time_res[\"full\"] = time.time() - start\n",
    "\n",
    "    start = time.time()\n",
    "    res = np.linalg.solve(matrix, results)\n",
    "    time_res[\"numpy\"] = time.time() - start\n",
    "\n",
    "    print(f\"MATRIX SIZE: {size}\")\n",
    "\n",
    "    print(f\"TIMES: partial_pivot: {time_res['part']}, full_pivot: {time_res['full']}, numpy_linalg_solve: {time_res['numpy']}\")\n",
    "    np.testing.assert_allclose(res, full)\n",
    "    print(f\"Full pivoting works fine with size\")\n",
    "\n",
    "    np.testing.assert_allclose(part, res)\n",
    "    print(f\"Partial pivoting works fine with size\\n\")\n",
    "\n",
    "    return time_res"
   ],
   "metadata": {
    "collapsed": false,
    "pycharm": {
     "name": "#%%\n"
    }
   }
  },
  {
   "cell_type": "markdown",
   "source": [
    "Sprawdzenie poprawności zarówno dla `partial_pivoting` jak i `full_pivoting` wraz z wykresem zależności czasu od wielkości macierzy:"
   ],
   "metadata": {
    "collapsed": false
   }
  },
  {
   "cell_type": "code",
   "execution_count": 8,
   "outputs": [
    {
     "name": "stdout",
     "output_type": "stream",
     "text": [
      "MATRIX SIZE: 50\n",
      "TIMES: partial_pivot: 0.01894855499267578, full_pivot: 0.018949270248413086, numpy_linalg_solve: 0.0060062408447265625\n",
      "Full pivoting works fine with size\n",
      "Partial pivoting works fine with size\n",
      "\n",
      "MATRIX SIZE: 100\n",
      "TIMES: partial_pivot: 0.06881546974182129, full_pivot: 0.07480072975158691, numpy_linalg_solve: 0.0\n",
      "Full pivoting works fine with size\n",
      "Partial pivoting works fine with size\n",
      "\n",
      "MATRIX SIZE: 150\n",
      "TIMES: partial_pivot: 0.1884908676147461, full_pivot: 0.17752695083618164, numpy_linalg_solve: 0.0029909610748291016\n",
      "Full pivoting works fine with size\n",
      "Partial pivoting works fine with size\n",
      "\n",
      "MATRIX SIZE: 200\n",
      "TIMES: partial_pivot: 0.34564208984375, full_pivot: 0.4577805995941162, numpy_linalg_solve: 0.0009975433349609375\n",
      "Full pivoting works fine with size\n",
      "Partial pivoting works fine with size\n",
      "\n",
      "MATRIX SIZE: 250\n",
      "TIMES: partial_pivot: 0.549649715423584, full_pivot: 0.5196385383605957, numpy_linalg_solve: 0.0009701251983642578\n",
      "Full pivoting works fine with size\n",
      "Partial pivoting works fine with size\n",
      "\n",
      "MATRIX SIZE: 300\n",
      "TIMES: partial_pivot: 0.7113523483276367, full_pivot: 0.840266227722168, numpy_linalg_solve: 0.009972572326660156\n",
      "Full pivoting works fine with size\n",
      "Partial pivoting works fine with size\n",
      "\n",
      "MATRIX SIZE: 350\n",
      "TIMES: partial_pivot: 1.016347885131836, full_pivot: 1.1327338218688965, numpy_linalg_solve: 0.0019583702087402344\n",
      "Full pivoting works fine with size\n",
      "Partial pivoting works fine with size\n",
      "\n",
      "MATRIX SIZE: 400\n",
      "TIMES: partial_pivot: 1.319502592086792, full_pivot: 1.351567268371582, numpy_linalg_solve: 0.0009980201721191406\n",
      "Full pivoting works fine with size\n",
      "Partial pivoting works fine with size\n",
      "\n",
      "MATRIX SIZE: 450\n",
      "TIMES: partial_pivot: 1.6323952674865723, full_pivot: 1.8506016731262207, numpy_linalg_solve: 0.00498652458190918\n",
      "Full pivoting works fine with size\n",
      "Partial pivoting works fine with size\n",
      "\n",
      "MATRIX SIZE: 500\n",
      "TIMES: partial_pivot: 2.133505344390869, full_pivot: 2.2333555221557617, numpy_linalg_solve: 0.001995086669921875\n",
      "Full pivoting works fine with size\n",
      "Partial pivoting works fine with size\n",
      "\n",
      "MATRIX SIZE: 550\n",
      "TIMES: partial_pivot: 2.6736183166503906, full_pivot: 3.0430023670196533, numpy_linalg_solve: 0.00797891616821289\n",
      "Full pivoting works fine with size\n",
      "Partial pivoting works fine with size\n",
      "\n",
      "MATRIX SIZE: 600\n",
      "TIMES: partial_pivot: 3.0602519512176514, full_pivot: 3.524271011352539, numpy_linalg_solve: 0.006981611251831055\n",
      "Full pivoting works fine with size\n",
      "Partial pivoting works fine with size\n",
      "\n",
      "MATRIX SIZE: 650\n",
      "TIMES: partial_pivot: 3.4066429138183594, full_pivot: 4.529386043548584, numpy_linalg_solve: 0.005983829498291016\n",
      "Full pivoting works fine with size\n",
      "Partial pivoting works fine with size\n",
      "\n",
      "MATRIX SIZE: 700\n",
      "TIMES: partial_pivot: 4.197752237319946, full_pivot: 4.9466307163238525, numpy_linalg_solve: 0.0049588680267333984\n",
      "Full pivoting works fine with size\n",
      "Partial pivoting works fine with size\n",
      "\n",
      "MATRIX SIZE: 750\n",
      "TIMES: partial_pivot: 5.095496416091919, full_pivot: 5.535031795501709, numpy_linalg_solve: 0.004987239837646484\n",
      "Full pivoting works fine with size\n",
      "Partial pivoting works fine with size\n",
      "\n",
      "MATRIX SIZE: 800\n",
      "TIMES: partial_pivot: 5.76006817817688, full_pivot: 6.6504271030426025, numpy_linalg_solve: 0.007979393005371094\n",
      "Full pivoting works fine with size\n",
      "Partial pivoting works fine with size\n",
      "\n",
      "MATRIX SIZE: 850\n",
      "TIMES: partial_pivot: 6.531235933303833, full_pivot: 7.60673975944519, numpy_linalg_solve: 0.006954669952392578\n",
      "Full pivoting works fine with size\n",
      "Partial pivoting works fine with size\n",
      "\n",
      "MATRIX SIZE: 900\n",
      "TIMES: partial_pivot: 8.376601934432983, full_pivot: 9.549973487854004, numpy_linalg_solve: 0.009973764419555664\n",
      "Full pivoting works fine with size\n",
      "Partial pivoting works fine with size\n",
      "\n",
      "MATRIX SIZE: 950\n",
      "TIMES: partial_pivot: 8.331408739089966, full_pivot: 9.815766334533691, numpy_linalg_solve: 0.009940385818481445\n",
      "Full pivoting works fine with size\n",
      "Partial pivoting works fine with size\n",
      "\n",
      "MATRIX SIZE: 1000\n",
      "TIMES: partial_pivot: 10.288628339767456, full_pivot: 11.989192485809326, numpy_linalg_solve: 0.010938644409179688\n",
      "Full pivoting works fine with size\n",
      "Partial pivoting works fine with size\n",
      "\n"
     ]
    }
   ],
   "source": [
    "result = dict()\n",
    "\n",
    "for i in range(20):\n",
    "    tested_size = 50 + 50*i\n",
    "    result[tested_size] = test_gauss_jordan(tested_size)"
   ],
   "metadata": {
    "collapsed": false,
    "pycharm": {
     "name": "#%%\n"
    }
   }
  },
  {
   "cell_type": "code",
   "execution_count": 9,
   "outputs": [
    {
     "data": {
      "text/plain": "<Figure size 432x288 with 1 Axes>",
      "image/png": "[encoded data removed]"
     },
     "metadata": {
      "needs_background": "light"
     },
     "output_type": "display_data"
    }
   ],
   "source": [
    "def create_time_plot(times):\n",
    "    N = list(times.keys())\n",
    "\n",
    "    full_piv = [times[n]['full'] for n in N]\n",
    "    part_piv = [times[n]['part'] for n in N]\n",
    "    numpy = [times[n]['numpy'] for n in N]\n",
    "\n",
    "    plt.plot(N, full_piv)\n",
    "    plt.plot(N, part_piv)\n",
    "    plt.plot(N, numpy)\n",
    "    plt.legend(['Full pivoting', 'Partial pivoting', 'Numpy solve'], bbox_to_anchor=(1.02, 1), loc='upper left', borderaxespad=0)\n",
    "    plt.xlabel('Matrix size')\n",
    "    plt.ylabel('Solving time [s]')\n",
    "    plt.title(f\"Time dependence on the size of the matrix\")\n",
    "    plt.show()\n",
    "\n",
    "create_time_plot(result)"
   ],
   "metadata": {
    "collapsed": false,
    "pycharm": {
     "name": "#%%\n"
    }
   }
  },
  {
   "cell_type": "markdown",
   "source": [
    "Wnioski:\n",
    "1. Algorytm jest poprawny -> nie pojawił się żaden *AssertioError* podczas testowania\n",
    "2. Poprzez zastosowanie operacji z biblioteki numpy, `full pivoting` jest tylko nieznacznie wolniejszy od `partial pivotingu`"
   ],
   "metadata": {
    "collapsed": false
   }
  },
  {
   "cell_type": "markdown",
   "source": [
    "## 2. Faktoryzacja LU"
   ],
   "metadata": {
    "collapsed": false
   }
  },
  {
   "cell_type": "code",
   "execution_count": 10,
   "outputs": [],
   "source": [
    "def LU_factorization(A: np.array):\n",
    "    LU = np.zeros(A.shape)\n",
    "    print(LU)"
   ],
   "metadata": {
    "collapsed": false,
    "pycharm": {
     "name": "#%%\n"
    }
   }
  },
  {
   "cell_type": "code",
   "execution_count": 11,
   "outputs": [
    {
     "name": "stdout",
     "output_type": "stream",
     "text": [
      "[[0. 0. 0.]\n",
      " [0. 0. 0.]\n",
      " [0. 0. 0.]]\n"
     ]
    }
   ],
   "source": [
    "LU_factorization(np.random.random((3,3)))"
   ],
   "metadata": {
    "collapsed": false,
    "pycharm": {
     "name": "#%%\n"
    }
   }
  },
  {
   "cell_type": "code",
   "execution_count": 11,
   "outputs": [],
   "source": [],
   "metadata": {
    "collapsed": false,
    "pycharm": {
     "name": "#%%\n"
    }
   }
  },
  {
   "cell_type": "markdown",
   "source": [
    "# 3. Analiza obwodu elektrycznego - nadokreslony układ równan\n",
    "\n",
    "Wstępnie ustalamy, że prąd płynie od s do t (czyli od pierwszego podanego wierzchołka do durgiego). W późniejszej częsci rozwiązania, należy odwrócic bieg prądu gdy na krawędzie pojawi się ujemne natężenie\n",
    "\n",
    "Funkcja wczutująca dane z pliku:"
   ],
   "metadata": {
    "collapsed": false
   }
  },
  {
   "cell_type": "code",
   "execution_count": 168,
   "outputs": [],
   "source": [
    "import re\n",
    "from collections import namedtuple\n",
    "import networkx as nx\n",
    "\n",
    "GraphInfo = namedtuple(\"GraphInfo\", [\"nxDiGraph\", \"SEM\"])\n",
    "SEM = namedtuple('SEM', ['s', 't', 'U'])\n",
    "def parse_graph_date(file_name='graphs.txt'):\n",
    "    graphs = dict()\n",
    "    with open(file_name) as f:\n",
    "        iterator = iter(f.readlines())\n",
    "        line = next(iterator, None)\n",
    "        while line:\n",
    "            name_match = re.match(\"\\[(?P<graph_name>.*)]$\", line)\n",
    "            if name_match:\n",
    "                graph_name = name_match.group('graph_name')\n",
    "                #here without default None -> if file ends its an error cause we don't have data\n",
    "                line = next(iterator)\n",
    "                nx_graph = get_nx_graph(line)\n",
    "                line = next(iterator)\n",
    "                sem = get_sem(line)\n",
    "                graphs[graph_name] = GraphInfo(nx_graph, sem)\n",
    "\n",
    "            line = next(iterator, None)\n",
    "\n",
    "    return graphs\n",
    "\n",
    "def get_sem(line: str):\n",
    "    s, t, U = line.strip().split(sep=';')\n",
    "    return SEM(np.float64(s), np.float64(t), np.float64(U))\n",
    "\n",
    "def get_nx_graph(line: str):\n",
    "    line = line.strip()\n",
    "    edges_tuples = [eval(edge) for edge in line.split(sep=';')]\n",
    "    G = nx.DiGraph()\n",
    "    for edge in edges_tuples:\n",
    "        G.add_edge(edge[0], edge[1], R=edge[2], I=0)\n",
    "\n",
    "    return G"
   ],
   "metadata": {
    "collapsed": false,
    "pycharm": {
     "name": "#%%\n"
    }
   }
  },
  {
   "cell_type": "markdown",
   "source": [
    "Obliczanie natężeń korzystając z praw Kirchhoffa. Ważne informacje:\n",
    "1. Niewiadomymi są natężenia na poszczególnych krawędziach.\n",
    "2. Indeks kolumny odpowiada indeksowi krawędzi\n",
    "3. Rezultat każdego działania wynosi 0 zarówno dla I jak i II prawa Kirchhoffa\n",
    "4. U = I*R"
   ],
   "metadata": {
    "collapsed": false,
    "pycharm": {
     "name": "#%% md\n"
    }
   }
  },
  {
   "cell_type": "code",
   "execution_count": 262,
   "outputs": [],
   "source": [
    "def kirchhoff(graph_info: GraphInfo):\n",
    "    G = graph_info.nxDiGraph\n",
    "    SEM = graph_info.SEM\n",
    "\n",
    "    if not nx.is_weakly_connected(G): #sprawdza czy graf skierowany byłby spójny w przypadku usunięcia kierunków krawędzi\n",
    "        print(\"ERROR: Graf nie jest spójny\")\n",
    "        return None\n",
    "\n",
    "    G.add_edge(SEM.s, SEM.t, R=0, I=0)\n",
    "    edges_num = G.number_of_edges()\n",
    "    nodes_num = G.number_of_nodes()\n",
    "    edges = list(G.edges())\n",
    "    edge_id_by_edge = {edges[i]: i for i in range(len(edges))}\n",
    "\n",
    "    A = np.zeros((edges_num, edges_num))\n",
    "    B = np.zeros(edges_num)\n",
    "\n",
    "    #II prawo kirchoffa\n",
    "    equations_num = 0\n",
    "    cycles = nx.cycle_basis(G.to_undirected()) #rozpatrując cykle, nalezy patrzeć na graf jako nieskierowany\n",
    "    while equations_num < edges_num and equations_num < len(cycles):\n",
    "        cycle = cycles[equations_num]\n",
    "        for i in range(len(cycle)):\n",
    "            v1, v2 = cycle[i], cycle[(i+1)%len(cycle)]\n",
    "            if (v1, v2) == (SEM.s, SEM.t):\n",
    "                B[equations_num] = SEM.U\n",
    "            elif (v1, v2) == (SEM.t, SEM.s):\n",
    "                B[equations_num] = -SEM.U\n",
    "            else:\n",
    "                if (v1, v2) in edge_id_by_edge:\n",
    "                    edge_id = edge_id_by_edge[(v1, v2)]\n",
    "                    R = G[v1][v2]['R']\n",
    "                else:\n",
    "                    edge_id = edge_id_by_edge[(v2, v1)]\n",
    "                    R = -G[v2][v1]['R']\n",
    "\n",
    "                A[equations_num, edge_id] = R\n",
    "\n",
    "        equations_num += 1\n",
    "\n",
    "\n",
    "    # I prawo Kirchoffa\n",
    "    for vertex in G.nodes():\n",
    "        if equations_num >= edges_num:\n",
    "            break\n",
    "\n",
    "        #prąd wchodzi do wierzchołka, jest dodatni\n",
    "        for from_vertex, _ in G.in_edges(vertex):\n",
    "            edge_id = edge_id_by_edge.get((from_vertex, vertex))\n",
    "            A[equations_num, edge_id] = 1\n",
    "\n",
    "        #prąd wychodzi z wierzchołka, jest ujemny\n",
    "        for _, to_vertex in G.out_edges(vertex):\n",
    "            edge_id = edge_id_by_edge.get((vertex, to_vertex))\n",
    "            A[equations_num, edge_id] = -1\n",
    "\n",
    "        equations_num += 1\n",
    "\n",
    "\n",
    "    if equations_num != edges_num:\n",
    "        print(\"ERROR: za malo rownan\")\n",
    "        return None\n",
    "\n",
    "    try:\n",
    "        I = np.linalg.solve(A, B)\n",
    "    except LinAlgError:\n",
    "        print(\"ERROR: brak rozwiazania\")\n",
    "        return None\n",
    "\n",
    "    #changing direction for edges with  I < 0\n",
    "    for i in range(edges_num):\n",
    "        s, t = edges[i]\n",
    "        if np.sign(I[i]) == -1:\n",
    "            I[i] = np.negative(I[i])\n",
    "            r = G[s][t]['R']\n",
    "            G.add_edge(t, s, R=r, I=I[i])\n",
    "            G.remove_edge(s,t)\n",
    "        else:\n",
    "            G[s][t]['I'] = I[i]\n",
    "\n",
    "    ## CHECKING I KIRCHHOFF LAW\n",
    "    for vertex in G.nodes():\n",
    "        intesity_sum = 0\n",
    "        #prąd wchodzi do wierzchołka, jest dodatni\n",
    "        for from_vertex, _ in G.in_edges(vertex):\n",
    "            intesity_sum += G[from_vertex][vertex]['I']\n",
    "\n",
    "        #prąd wychodzi z wierzchołka, jest ujemny\n",
    "        for _, to_vertex in G.out_edges(vertex):\n",
    "            intesity_sum -= G[vertex][to_vertex]['I']\n",
    "\n",
    "        if not np.isclose(intesity_sum, 0):\n",
    "            print(\"ERROR: I prawo Kirchhoffa nie dziala\")\n",
    "            return None\n",
    "\n",
    "    nx.draw_networkx_nodes(G, nx.circular_layout(G))\n",
    "    nx.draw_networkx_labels(G, nx.circular_layout(G))\n",
    "    nx.draw_networkx_edges(G,nx.circular_layout(G))\n",
    "\n",
    "                           ## CHECKING II KIRCHHOFF LAW\n",
    "    edges_set = {e for e in list(G.edges())}\n",
    "    cycles = nx.cycle_basis(G.to_undirected()) #rozpatrując cykle, nalezy patrzeć na graf jako nieskierowany\n",
    "    for cycle in cycles:\n",
    "        voltage_sum = 0\n",
    "        for i in range(len(cycle)):\n",
    "            v1, v2 = cycle[i], cycle[(i+1)%len(cycle)]\n",
    "            if (v1, v2) == (SEM.s, SEM.t):\n",
    "                voltage_sum -= SEM.U\n",
    "            elif (v1, v2) == (SEM.t, SEM.s):\n",
    "                voltage_sum += SEM.U\n",
    "            else:\n",
    "                if (v1, v2) in edges_set:\n",
    "                    voltage_sum += G[v1][v2]['R'] * G[v1][v2]['I']\n",
    "                else:\n",
    "                    voltage_sum -= G[v2][v1]['R'] * G[v2][v1]['I']\n",
    "\n",
    "        if not np.isclose(voltage_sum, 0):\n",
    "            print(\"ERROR: II prawo Kirchhoffa nie dziala\")\n",
    "            return None\n",
    "\n",
    "    return I"
   ],
   "metadata": {
    "collapsed": false,
    "pycharm": {
     "name": "#%%\n"
    }
   }
  },
  {
   "cell_type": "code",
   "execution_count": 263,
   "outputs": [],
   "source": [
    "graphs = parse_graph_date()"
   ],
   "metadata": {
    "collapsed": false,
    "pycharm": {
     "name": "#%%\n"
    }
   }
  },
  {
   "cell_type": "code",
   "execution_count": 264,
   "outputs": [
    {
     "data": {
      "text/plain": "array([3.96039579e-01, 2.16958106e-01, 3.04065867e-01, 1.52032934e-01,\n       1.38824356e-01, 1.20792084e+00, 1.98979414e-01, 3.05008307e-01,\n       3.07893542e-01, 4.18911693e-02, 6.46933202e-03, 1.52032934e-01,\n       6.38853885e-02, 1.20792084e+00, 1.38824356e-01, 1.38824356e-01,\n       1.74431449e-02, 6.04996655e-03, 2.99722920e-03, 1.69281370e-01,\n       5.09528964e-02, 8.72051052e-02, 9.67210026e-02, 9.93526288e-03,\n       6.46933202e-03, 2.99722920e-03, 7.30318583e-16])"
     },
     "execution_count": 264,
     "metadata": {},
     "output_type": "execute_result"
    },
    {
     "data": {
      "text/plain": "<Figure size 432x288 with 1 Axes>",
      "image/png": "[encoded data removed]"
     },
     "metadata": {},
     "output_type": "display_data"
    }
   ],
   "source": [
    "I = kirchhoff(graphs['spojny'])\n",
    "I"
   ],
   "metadata": {
    "collapsed": false,
    "pycharm": {
     "name": "#%%\n"
    }
   }
  },
  {
   "cell_type": "code",
   "execution_count": 258,
   "outputs": [],
   "source": [],
   "metadata": {
    "collapsed": false,
    "pycharm": {
     "name": "#%%\n"
    }
   }
  },
  {
   "cell_type": "code",
   "execution_count": 86,
   "outputs": [],
   "source": [],
   "metadata": {
    "collapsed": false,
    "pycharm": {
     "name": "#%%\n"
    }
   }
  },
  {
   "cell_type": "code",
   "execution_count": null,
   "outputs": [],
   "source": [],
   "metadata": {
    "collapsed": false,
    "pycharm": {
     "name": "#%%\n"
    }
   }
  }
 ],
 "metadata": {
  "kernelspec": {
   "display_name": "Python 3",
   "language": "python",
   "name": "python3"
  },
  "language_info": {
   "codemirror_mode": {
    "name": "ipython",
    "version": 2
   },
   "file_extension": ".py",
   "mimetype": "text/x-python",
   "name": "python",
   "nbconvert_exporter": "python",
   "pygments_lexer": "ipython2",
   "version": "2.7.6"
  }
 },
 "nbformat": 4,
 "nbformat_minor": 0
}